{
 "cells": [
  {
   "cell_type": "code",
   "execution_count": 61,
   "metadata": {
    "ExecuteTime": {
     "end_time": "2023-12-10T14:14:59.819652900Z",
     "start_time": "2023-12-10T14:14:59.776202300Z"
    }
   },
   "outputs": [],
   "source": [
    "import pandas as pd \n",
    "from math import sqrt\n",
    "import matplotlib.pyplot as plt \n",
    "from sklearn.model_selection import train_test_split\n",
    "from sklearn.linear_model import LinearRegression\n",
    "from sklearn.metrics import mean_squared_error, r2_score\n",
    "from sklearn import preprocessing\n",
    "import numpy as np"
   ]
  },
  {
   "cell_type": "code",
   "execution_count": 62,
   "metadata": {
    "ExecuteTime": {
     "end_time": "2023-12-10T14:14:59.866200100Z",
     "start_time": "2023-12-10T14:14:59.783209100Z"
    }
   },
   "outputs": [],
   "source": [
    "data = pd.read_csv('../Data/ozone.csv', sep=',')"
   ]
  },
  {
   "cell_type": "code",
   "execution_count": 63,
   "metadata": {
    "ExecuteTime": {
     "end_time": "2023-12-10T14:14:59.866200100Z",
     "start_time": "2023-12-10T14:14:59.799634600Z"
    }
   },
   "outputs": [
    {
     "data": {
      "text/plain": "0       87\n1       82\n2       92\n3      114\n4       94\n      ... \n107     84\n108     77\n109     99\n110     83\n111     70\nName: MaxO3, Length: 112, dtype: int64"
     },
     "execution_count": 63,
     "metadata": {},
     "output_type": "execute_result"
    }
   ],
   "source": [
    "y = data[\"MaxO3\"]\n",
    "y"
   ]
  },
  {
   "cell_type": "code",
   "execution_count": 63,
   "metadata": {
    "ExecuteTime": {
     "end_time": "2023-12-10T14:14:59.867200600Z",
     "start_time": "2023-12-10T14:14:59.813647100Z"
    }
   },
   "outputs": [],
   "source": []
  },
  {
   "cell_type": "code",
   "execution_count": 64,
   "metadata": {
    "ExecuteTime": {
     "end_time": "2023-12-10T14:14:59.868201200Z",
     "start_time": "2023-12-10T14:14:59.830663500Z"
    }
   },
   "outputs": [],
   "source": [
    "data= data[\n",
    "           ['T9', 'T12', 'T15', 'Ne9', 'Ne12', 'Ne15', 'Vx9',\n",
    "            'Vx12', 'Vx15', 'MaxO3v']\n",
    "]"
   ]
  },
  {
   "cell_type": "code",
   "execution_count": 65,
   "metadata": {
    "ExecuteTime": {
     "end_time": "2023-12-10T14:14:59.868201200Z",
     "start_time": "2023-12-10T14:14:59.852186Z"
    }
   },
   "outputs": [
    {
     "data": {
      "text/plain": "       T9   T12   T15  Ne9  Ne12  Ne15     Vx9    Vx12    Vx15  MaxO3v\n0    15.6  18.5  18.4    4     4     8  0.6946 -1.7101 -0.6946      84\n1    17.0  18.4  17.7    5     5     7 -4.3301 -4.0000 -3.0000      87\n2    15.3  17.6  19.5    2     5     4  2.9544  1.8794  0.5209      82\n3    16.2  19.7  22.5    1     1     0  0.9848  0.3473 -0.1736      92\n4    17.4  20.5  20.4    8     8     7 -0.5000 -2.9544 -4.3301     114\n..    ...   ...   ...  ...   ...   ...     ...     ...     ...     ...\n107  13.3  17.7  17.8    3     5     6  0.0000 -1.0000 -1.2856      76\n108  16.2  20.8  22.1    6     5     5 -0.6946 -2.0000 -1.3681      71\n109  16.9  23.0  22.6    6     4     7  1.5000  0.8682  0.8682      77\n110  16.9  19.8  22.1    6     5     3 -4.0000 -3.7588 -4.0000      99\n111  15.7  18.6  20.7    7     7     7  0.0000 -1.0419 -4.0000      83\n\n[112 rows x 10 columns]",
      "text/html": "<div>\n<style scoped>\n    .dataframe tbody tr th:only-of-type {\n        vertical-align: middle;\n    }\n\n    .dataframe tbody tr th {\n        vertical-align: top;\n    }\n\n    .dataframe thead th {\n        text-align: right;\n    }\n</style>\n<table border=\"1\" class=\"dataframe\">\n  <thead>\n    <tr style=\"text-align: right;\">\n      <th></th>\n      <th>T9</th>\n      <th>T12</th>\n      <th>T15</th>\n      <th>Ne9</th>\n      <th>Ne12</th>\n      <th>Ne15</th>\n      <th>Vx9</th>\n      <th>Vx12</th>\n      <th>Vx15</th>\n      <th>MaxO3v</th>\n    </tr>\n  </thead>\n  <tbody>\n    <tr>\n      <th>0</th>\n      <td>15.6</td>\n      <td>18.5</td>\n      <td>18.4</td>\n      <td>4</td>\n      <td>4</td>\n      <td>8</td>\n      <td>0.6946</td>\n      <td>-1.7101</td>\n      <td>-0.6946</td>\n      <td>84</td>\n    </tr>\n    <tr>\n      <th>1</th>\n      <td>17.0</td>\n      <td>18.4</td>\n      <td>17.7</td>\n      <td>5</td>\n      <td>5</td>\n      <td>7</td>\n      <td>-4.3301</td>\n      <td>-4.0000</td>\n      <td>-3.0000</td>\n      <td>87</td>\n    </tr>\n    <tr>\n      <th>2</th>\n      <td>15.3</td>\n      <td>17.6</td>\n      <td>19.5</td>\n      <td>2</td>\n      <td>5</td>\n      <td>4</td>\n      <td>2.9544</td>\n      <td>1.8794</td>\n      <td>0.5209</td>\n      <td>82</td>\n    </tr>\n    <tr>\n      <th>3</th>\n      <td>16.2</td>\n      <td>19.7</td>\n      <td>22.5</td>\n      <td>1</td>\n      <td>1</td>\n      <td>0</td>\n      <td>0.9848</td>\n      <td>0.3473</td>\n      <td>-0.1736</td>\n      <td>92</td>\n    </tr>\n    <tr>\n      <th>4</th>\n      <td>17.4</td>\n      <td>20.5</td>\n      <td>20.4</td>\n      <td>8</td>\n      <td>8</td>\n      <td>7</td>\n      <td>-0.5000</td>\n      <td>-2.9544</td>\n      <td>-4.3301</td>\n      <td>114</td>\n    </tr>\n    <tr>\n      <th>...</th>\n      <td>...</td>\n      <td>...</td>\n      <td>...</td>\n      <td>...</td>\n      <td>...</td>\n      <td>...</td>\n      <td>...</td>\n      <td>...</td>\n      <td>...</td>\n      <td>...</td>\n    </tr>\n    <tr>\n      <th>107</th>\n      <td>13.3</td>\n      <td>17.7</td>\n      <td>17.8</td>\n      <td>3</td>\n      <td>5</td>\n      <td>6</td>\n      <td>0.0000</td>\n      <td>-1.0000</td>\n      <td>-1.2856</td>\n      <td>76</td>\n    </tr>\n    <tr>\n      <th>108</th>\n      <td>16.2</td>\n      <td>20.8</td>\n      <td>22.1</td>\n      <td>6</td>\n      <td>5</td>\n      <td>5</td>\n      <td>-0.6946</td>\n      <td>-2.0000</td>\n      <td>-1.3681</td>\n      <td>71</td>\n    </tr>\n    <tr>\n      <th>109</th>\n      <td>16.9</td>\n      <td>23.0</td>\n      <td>22.6</td>\n      <td>6</td>\n      <td>4</td>\n      <td>7</td>\n      <td>1.5000</td>\n      <td>0.8682</td>\n      <td>0.8682</td>\n      <td>77</td>\n    </tr>\n    <tr>\n      <th>110</th>\n      <td>16.9</td>\n      <td>19.8</td>\n      <td>22.1</td>\n      <td>6</td>\n      <td>5</td>\n      <td>3</td>\n      <td>-4.0000</td>\n      <td>-3.7588</td>\n      <td>-4.0000</td>\n      <td>99</td>\n    </tr>\n    <tr>\n      <th>111</th>\n      <td>15.7</td>\n      <td>18.6</td>\n      <td>20.7</td>\n      <td>7</td>\n      <td>7</td>\n      <td>7</td>\n      <td>0.0000</td>\n      <td>-1.0419</td>\n      <td>-4.0000</td>\n      <td>83</td>\n    </tr>\n  </tbody>\n</table>\n<p>112 rows × 10 columns</p>\n</div>"
     },
     "execution_count": 65,
     "metadata": {},
     "output_type": "execute_result"
    }
   ],
   "source": [
    "data"
   ]
  },
  {
   "cell_type": "code",
   "execution_count": 66,
   "metadata": {
    "ExecuteTime": {
     "end_time": "2023-12-10T14:14:59.914242800Z",
     "start_time": "2023-12-10T14:14:59.863197700Z"
    }
   },
   "outputs": [
    {
     "data": {
      "text/plain": "               T9         T12         T15         Ne9        Ne12        Ne15  \\\ncount  112.000000  112.000000  112.000000  112.000000  112.000000  112.000000   \nmean    18.360714   21.526786   22.627679    4.928571    5.017857    4.830357   \nstd      3.122726    4.042321    4.530859    2.594916    2.281860    2.332259   \nmin     11.300000   14.000000   14.900000    0.000000    0.000000    0.000000   \n25%     16.200000   18.600000   19.275000    3.000000    4.000000    3.000000   \n50%     17.800000   20.550000   22.050000    6.000000    5.000000    5.000000   \n75%     19.925000   23.550000   25.400000    7.000000    7.000000    7.000000   \nmax     27.000000   33.500000   35.500000    8.000000    8.000000    8.000000   \n\n              Vx9        Vx12        Vx15      MaxO3v  \ncount  112.000000  112.000000  112.000000  112.000000  \nmean    -1.214346   -1.611004   -1.690683   90.571429  \nstd      2.632742    2.795673    2.810198   28.276853  \nmin     -7.878500   -7.878500   -9.000000   42.000000  \n25%     -3.276450   -3.564700   -3.939200   71.000000  \n50%     -0.866000   -1.879400   -1.549650   82.500000  \n75%      0.694600    0.000000    0.000000  106.000000  \nmax      5.196200    6.577800    5.000000  166.000000  ",
      "text/html": "<div>\n<style scoped>\n    .dataframe tbody tr th:only-of-type {\n        vertical-align: middle;\n    }\n\n    .dataframe tbody tr th {\n        vertical-align: top;\n    }\n\n    .dataframe thead th {\n        text-align: right;\n    }\n</style>\n<table border=\"1\" class=\"dataframe\">\n  <thead>\n    <tr style=\"text-align: right;\">\n      <th></th>\n      <th>T9</th>\n      <th>T12</th>\n      <th>T15</th>\n      <th>Ne9</th>\n      <th>Ne12</th>\n      <th>Ne15</th>\n      <th>Vx9</th>\n      <th>Vx12</th>\n      <th>Vx15</th>\n      <th>MaxO3v</th>\n    </tr>\n  </thead>\n  <tbody>\n    <tr>\n      <th>count</th>\n      <td>112.000000</td>\n      <td>112.000000</td>\n      <td>112.000000</td>\n      <td>112.000000</td>\n      <td>112.000000</td>\n      <td>112.000000</td>\n      <td>112.000000</td>\n      <td>112.000000</td>\n      <td>112.000000</td>\n      <td>112.000000</td>\n    </tr>\n    <tr>\n      <th>mean</th>\n      <td>18.360714</td>\n      <td>21.526786</td>\n      <td>22.627679</td>\n      <td>4.928571</td>\n      <td>5.017857</td>\n      <td>4.830357</td>\n      <td>-1.214346</td>\n      <td>-1.611004</td>\n      <td>-1.690683</td>\n      <td>90.571429</td>\n    </tr>\n    <tr>\n      <th>std</th>\n      <td>3.122726</td>\n      <td>4.042321</td>\n      <td>4.530859</td>\n      <td>2.594916</td>\n      <td>2.281860</td>\n      <td>2.332259</td>\n      <td>2.632742</td>\n      <td>2.795673</td>\n      <td>2.810198</td>\n      <td>28.276853</td>\n    </tr>\n    <tr>\n      <th>min</th>\n      <td>11.300000</td>\n      <td>14.000000</td>\n      <td>14.900000</td>\n      <td>0.000000</td>\n      <td>0.000000</td>\n      <td>0.000000</td>\n      <td>-7.878500</td>\n      <td>-7.878500</td>\n      <td>-9.000000</td>\n      <td>42.000000</td>\n    </tr>\n    <tr>\n      <th>25%</th>\n      <td>16.200000</td>\n      <td>18.600000</td>\n      <td>19.275000</td>\n      <td>3.000000</td>\n      <td>4.000000</td>\n      <td>3.000000</td>\n      <td>-3.276450</td>\n      <td>-3.564700</td>\n      <td>-3.939200</td>\n      <td>71.000000</td>\n    </tr>\n    <tr>\n      <th>50%</th>\n      <td>17.800000</td>\n      <td>20.550000</td>\n      <td>22.050000</td>\n      <td>6.000000</td>\n      <td>5.000000</td>\n      <td>5.000000</td>\n      <td>-0.866000</td>\n      <td>-1.879400</td>\n      <td>-1.549650</td>\n      <td>82.500000</td>\n    </tr>\n    <tr>\n      <th>75%</th>\n      <td>19.925000</td>\n      <td>23.550000</td>\n      <td>25.400000</td>\n      <td>7.000000</td>\n      <td>7.000000</td>\n      <td>7.000000</td>\n      <td>0.694600</td>\n      <td>0.000000</td>\n      <td>0.000000</td>\n      <td>106.000000</td>\n    </tr>\n    <tr>\n      <th>max</th>\n      <td>27.000000</td>\n      <td>33.500000</td>\n      <td>35.500000</td>\n      <td>8.000000</td>\n      <td>8.000000</td>\n      <td>8.000000</td>\n      <td>5.196200</td>\n      <td>6.577800</td>\n      <td>5.000000</td>\n      <td>166.000000</td>\n    </tr>\n  </tbody>\n</table>\n</div>"
     },
     "execution_count": 66,
     "metadata": {},
     "output_type": "execute_result"
    }
   ],
   "source": [
    "data.describe()"
   ]
  },
  {
   "cell_type": "code",
   "execution_count": 67,
   "metadata": {
    "ExecuteTime": {
     "end_time": "2023-12-10T14:14:59.970423100Z",
     "start_time": "2023-12-10T14:14:59.896226400Z"
    }
   },
   "outputs": [],
   "source": [
    "def normalization(dataToNormalize):\n",
    "    columns = dataToNormalize.columns\n",
    "    for col in columns:\n",
    "        x = dataToNormalize[[col]].values.astype(float)\n",
    "        standard_normalization = preprocessing.StandardScaler()\n",
    "        res = standard_normalization.fit_transform(x)\n",
    "        dataToNormalize[col]=res\n",
    "        \n",
    "normalization(data)"
   ]
  },
  {
   "cell_type": "code",
   "execution_count": 68,
   "metadata": {
    "scrolled": true,
    "ExecuteTime": {
     "end_time": "2023-12-10T14:14:59.998449600Z",
     "start_time": "2023-12-10T14:14:59.909238800Z"
    }
   },
   "outputs": [
    {
     "data": {
      "text/plain": "           T9       T12       T15       Ne9      Ne12      Ne15       Vx9  \\\n0   -0.888045 -0.752140 -0.937279 -0.359451 -0.448069  1.365152  0.728338   \n1   -0.437704 -0.776989 -1.092469  0.027650 -0.007861  0.934456 -1.188782   \n2   -0.984547 -0.975785 -0.693408 -1.133653 -0.007861 -0.357631  1.590540   \n3   -0.695042 -0.453946 -0.028306 -1.520753 -1.768695 -2.080415  0.839060   \n4   -0.309035 -0.255151 -0.493878  1.188953  1.312765  0.934456  0.272551   \n..        ...       ...       ...       ...       ...       ...       ...   \n107 -1.627892 -0.950935 -1.070299 -0.746552 -0.007861  0.503760  0.463320   \n108 -0.695042 -0.180602 -0.116987  0.414751 -0.007861  0.073064  0.198303   \n109 -0.469871  0.366086 -0.006136  0.414751 -0.448069  0.934456  1.035629   \n110 -0.469871 -0.429097 -0.116987  0.414751 -0.007861 -0.788327 -1.062836   \n111 -0.855878 -0.727290 -0.427368  0.801852  0.872556  0.934456  0.463320   \n\n         Vx12      Vx15    MaxO3v  \n0   -0.035606  0.356046 -0.233441  \n1   -0.858374 -0.468010 -0.126870  \n2    1.254113  0.790522 -0.304488  \n3    0.703625  0.542276  0.050748  \n4   -0.482687 -0.943449  0.832266  \n..        ...       ...       ...  \n107  0.219536  0.144795 -0.517629  \n108 -0.139768  0.115306 -0.695247  \n109  0.890786  0.914663 -0.482105  \n110 -0.771710 -0.825457  0.299413  \n111  0.204481 -0.825457 -0.268964  \n\n[112 rows x 10 columns]",
      "text/html": "<div>\n<style scoped>\n    .dataframe tbody tr th:only-of-type {\n        vertical-align: middle;\n    }\n\n    .dataframe tbody tr th {\n        vertical-align: top;\n    }\n\n    .dataframe thead th {\n        text-align: right;\n    }\n</style>\n<table border=\"1\" class=\"dataframe\">\n  <thead>\n    <tr style=\"text-align: right;\">\n      <th></th>\n      <th>T9</th>\n      <th>T12</th>\n      <th>T15</th>\n      <th>Ne9</th>\n      <th>Ne12</th>\n      <th>Ne15</th>\n      <th>Vx9</th>\n      <th>Vx12</th>\n      <th>Vx15</th>\n      <th>MaxO3v</th>\n    </tr>\n  </thead>\n  <tbody>\n    <tr>\n      <th>0</th>\n      <td>-0.888045</td>\n      <td>-0.752140</td>\n      <td>-0.937279</td>\n      <td>-0.359451</td>\n      <td>-0.448069</td>\n      <td>1.365152</td>\n      <td>0.728338</td>\n      <td>-0.035606</td>\n      <td>0.356046</td>\n      <td>-0.233441</td>\n    </tr>\n    <tr>\n      <th>1</th>\n      <td>-0.437704</td>\n      <td>-0.776989</td>\n      <td>-1.092469</td>\n      <td>0.027650</td>\n      <td>-0.007861</td>\n      <td>0.934456</td>\n      <td>-1.188782</td>\n      <td>-0.858374</td>\n      <td>-0.468010</td>\n      <td>-0.126870</td>\n    </tr>\n    <tr>\n      <th>2</th>\n      <td>-0.984547</td>\n      <td>-0.975785</td>\n      <td>-0.693408</td>\n      <td>-1.133653</td>\n      <td>-0.007861</td>\n      <td>-0.357631</td>\n      <td>1.590540</td>\n      <td>1.254113</td>\n      <td>0.790522</td>\n      <td>-0.304488</td>\n    </tr>\n    <tr>\n      <th>3</th>\n      <td>-0.695042</td>\n      <td>-0.453946</td>\n      <td>-0.028306</td>\n      <td>-1.520753</td>\n      <td>-1.768695</td>\n      <td>-2.080415</td>\n      <td>0.839060</td>\n      <td>0.703625</td>\n      <td>0.542276</td>\n      <td>0.050748</td>\n    </tr>\n    <tr>\n      <th>4</th>\n      <td>-0.309035</td>\n      <td>-0.255151</td>\n      <td>-0.493878</td>\n      <td>1.188953</td>\n      <td>1.312765</td>\n      <td>0.934456</td>\n      <td>0.272551</td>\n      <td>-0.482687</td>\n      <td>-0.943449</td>\n      <td>0.832266</td>\n    </tr>\n    <tr>\n      <th>...</th>\n      <td>...</td>\n      <td>...</td>\n      <td>...</td>\n      <td>...</td>\n      <td>...</td>\n      <td>...</td>\n      <td>...</td>\n      <td>...</td>\n      <td>...</td>\n      <td>...</td>\n    </tr>\n    <tr>\n      <th>107</th>\n      <td>-1.627892</td>\n      <td>-0.950935</td>\n      <td>-1.070299</td>\n      <td>-0.746552</td>\n      <td>-0.007861</td>\n      <td>0.503760</td>\n      <td>0.463320</td>\n      <td>0.219536</td>\n      <td>0.144795</td>\n      <td>-0.517629</td>\n    </tr>\n    <tr>\n      <th>108</th>\n      <td>-0.695042</td>\n      <td>-0.180602</td>\n      <td>-0.116987</td>\n      <td>0.414751</td>\n      <td>-0.007861</td>\n      <td>0.073064</td>\n      <td>0.198303</td>\n      <td>-0.139768</td>\n      <td>0.115306</td>\n      <td>-0.695247</td>\n    </tr>\n    <tr>\n      <th>109</th>\n      <td>-0.469871</td>\n      <td>0.366086</td>\n      <td>-0.006136</td>\n      <td>0.414751</td>\n      <td>-0.448069</td>\n      <td>0.934456</td>\n      <td>1.035629</td>\n      <td>0.890786</td>\n      <td>0.914663</td>\n      <td>-0.482105</td>\n    </tr>\n    <tr>\n      <th>110</th>\n      <td>-0.469871</td>\n      <td>-0.429097</td>\n      <td>-0.116987</td>\n      <td>0.414751</td>\n      <td>-0.007861</td>\n      <td>-0.788327</td>\n      <td>-1.062836</td>\n      <td>-0.771710</td>\n      <td>-0.825457</td>\n      <td>0.299413</td>\n    </tr>\n    <tr>\n      <th>111</th>\n      <td>-0.855878</td>\n      <td>-0.727290</td>\n      <td>-0.427368</td>\n      <td>0.801852</td>\n      <td>0.872556</td>\n      <td>0.934456</td>\n      <td>0.463320</td>\n      <td>0.204481</td>\n      <td>-0.825457</td>\n      <td>-0.268964</td>\n    </tr>\n  </tbody>\n</table>\n<p>112 rows × 10 columns</p>\n</div>"
     },
     "execution_count": 68,
     "metadata": {},
     "output_type": "execute_result"
    }
   ],
   "source": [
    "data"
   ]
  },
  {
   "cell_type": "code",
   "execution_count": 69,
   "metadata": {
    "ExecuteTime": {
     "end_time": "2023-12-10T14:15:00.072549600Z",
     "start_time": "2023-12-10T14:14:59.925254800Z"
    }
   },
   "outputs": [
    {
     "data": {
      "text/plain": "                 T9           T12           T15           Ne9          Ne12  \\\ncount  1.120000e+02  1.120000e+02  1.120000e+02  1.120000e+02  1.120000e+02   \nmean  -5.947623e-16 -2.299748e-16 -1.586033e-17 -1.110223e-16 -1.744636e-16   \nstd    1.004494e+00  1.004494e+00  1.004494e+00  1.004494e+00  1.004494e+00   \nmin   -2.271236e+00 -1.870365e+00 -1.713231e+00 -1.907854e+00 -2.208904e+00   \n25%   -6.950420e-01 -7.272901e-01 -7.432910e-01 -7.465517e-01 -4.480695e-01   \n50%   -1.803663e-01 -2.427259e-01 -1.280717e-01  4.147509e-01 -7.860868e-03   \n75%    5.031874e-01  5.027576e-01  6.146254e-01  8.018518e-01  8.725563e-01   \nmax    2.779019e+00  2.975278e+00  2.853802e+00  1.188953e+00  1.312765e+00   \n\n               Ne15           Vx9          Vx12          Vx15        MaxO3v  \ncount  1.120000e+02  1.120000e+02  1.120000e+02  1.120000e+02  1.120000e+02  \nmean  -1.586033e-16  3.172066e-17  1.586033e-17 -9.516197e-17  7.533656e-17  \nstd    1.004494e+00  1.004494e+00  1.004494e+00  1.004494e+00  1.004494e+00  \nmin   -2.080415e+00 -2.542636e+00 -2.251932e+00 -2.612687e+00 -1.725430e+00  \n25%   -7.883274e-01 -7.867737e-01 -7.019695e-01 -8.037238e-01 -6.952468e-01  \n50%    7.306449e-02  1.329075e-01 -9.643571e-02  5.041172e-02 -2.867259e-01  \n75%    9.344564e-01  7.283376e-01  5.788388e-01  6.043282e-01  5.480777e-01  \nmax    1.365152e+00  2.445874e+00  2.942264e+00  2.391559e+00  2.679491e+00  ",
      "text/html": "<div>\n<style scoped>\n    .dataframe tbody tr th:only-of-type {\n        vertical-align: middle;\n    }\n\n    .dataframe tbody tr th {\n        vertical-align: top;\n    }\n\n    .dataframe thead th {\n        text-align: right;\n    }\n</style>\n<table border=\"1\" class=\"dataframe\">\n  <thead>\n    <tr style=\"text-align: right;\">\n      <th></th>\n      <th>T9</th>\n      <th>T12</th>\n      <th>T15</th>\n      <th>Ne9</th>\n      <th>Ne12</th>\n      <th>Ne15</th>\n      <th>Vx9</th>\n      <th>Vx12</th>\n      <th>Vx15</th>\n      <th>MaxO3v</th>\n    </tr>\n  </thead>\n  <tbody>\n    <tr>\n      <th>count</th>\n      <td>1.120000e+02</td>\n      <td>1.120000e+02</td>\n      <td>1.120000e+02</td>\n      <td>1.120000e+02</td>\n      <td>1.120000e+02</td>\n      <td>1.120000e+02</td>\n      <td>1.120000e+02</td>\n      <td>1.120000e+02</td>\n      <td>1.120000e+02</td>\n      <td>1.120000e+02</td>\n    </tr>\n    <tr>\n      <th>mean</th>\n      <td>-5.947623e-16</td>\n      <td>-2.299748e-16</td>\n      <td>-1.586033e-17</td>\n      <td>-1.110223e-16</td>\n      <td>-1.744636e-16</td>\n      <td>-1.586033e-16</td>\n      <td>3.172066e-17</td>\n      <td>1.586033e-17</td>\n      <td>-9.516197e-17</td>\n      <td>7.533656e-17</td>\n    </tr>\n    <tr>\n      <th>std</th>\n      <td>1.004494e+00</td>\n      <td>1.004494e+00</td>\n      <td>1.004494e+00</td>\n      <td>1.004494e+00</td>\n      <td>1.004494e+00</td>\n      <td>1.004494e+00</td>\n      <td>1.004494e+00</td>\n      <td>1.004494e+00</td>\n      <td>1.004494e+00</td>\n      <td>1.004494e+00</td>\n    </tr>\n    <tr>\n      <th>min</th>\n      <td>-2.271236e+00</td>\n      <td>-1.870365e+00</td>\n      <td>-1.713231e+00</td>\n      <td>-1.907854e+00</td>\n      <td>-2.208904e+00</td>\n      <td>-2.080415e+00</td>\n      <td>-2.542636e+00</td>\n      <td>-2.251932e+00</td>\n      <td>-2.612687e+00</td>\n      <td>-1.725430e+00</td>\n    </tr>\n    <tr>\n      <th>25%</th>\n      <td>-6.950420e-01</td>\n      <td>-7.272901e-01</td>\n      <td>-7.432910e-01</td>\n      <td>-7.465517e-01</td>\n      <td>-4.480695e-01</td>\n      <td>-7.883274e-01</td>\n      <td>-7.867737e-01</td>\n      <td>-7.019695e-01</td>\n      <td>-8.037238e-01</td>\n      <td>-6.952468e-01</td>\n    </tr>\n    <tr>\n      <th>50%</th>\n      <td>-1.803663e-01</td>\n      <td>-2.427259e-01</td>\n      <td>-1.280717e-01</td>\n      <td>4.147509e-01</td>\n      <td>-7.860868e-03</td>\n      <td>7.306449e-02</td>\n      <td>1.329075e-01</td>\n      <td>-9.643571e-02</td>\n      <td>5.041172e-02</td>\n      <td>-2.867259e-01</td>\n    </tr>\n    <tr>\n      <th>75%</th>\n      <td>5.031874e-01</td>\n      <td>5.027576e-01</td>\n      <td>6.146254e-01</td>\n      <td>8.018518e-01</td>\n      <td>8.725563e-01</td>\n      <td>9.344564e-01</td>\n      <td>7.283376e-01</td>\n      <td>5.788388e-01</td>\n      <td>6.043282e-01</td>\n      <td>5.480777e-01</td>\n    </tr>\n    <tr>\n      <th>max</th>\n      <td>2.779019e+00</td>\n      <td>2.975278e+00</td>\n      <td>2.853802e+00</td>\n      <td>1.188953e+00</td>\n      <td>1.312765e+00</td>\n      <td>1.365152e+00</td>\n      <td>2.445874e+00</td>\n      <td>2.942264e+00</td>\n      <td>2.391559e+00</td>\n      <td>2.679491e+00</td>\n    </tr>\n  </tbody>\n</table>\n</div>"
     },
     "execution_count": 69,
     "metadata": {},
     "output_type": "execute_result"
    }
   ],
   "source": [
    "data.describe()"
   ]
  },
  {
   "cell_type": "code",
   "execution_count": 93,
   "metadata": {
    "ExecuteTime": {
     "end_time": "2023-12-10T14:18:00.822014Z",
     "start_time": "2023-12-10T14:18:00.795036300Z"
    }
   },
   "outputs": [
    {
     "data": {
      "text/plain": "LinearRegression()",
      "text/html": "<style>#sk-container-id-11 {color: black;}#sk-container-id-11 pre{padding: 0;}#sk-container-id-11 div.sk-toggleable {background-color: white;}#sk-container-id-11 label.sk-toggleable__label {cursor: pointer;display: block;width: 100%;margin-bottom: 0;padding: 0.3em;box-sizing: border-box;text-align: center;}#sk-container-id-11 label.sk-toggleable__label-arrow:before {content: \"▸\";float: left;margin-right: 0.25em;color: #696969;}#sk-container-id-11 label.sk-toggleable__label-arrow:hover:before {color: black;}#sk-container-id-11 div.sk-estimator:hover label.sk-toggleable__label-arrow:before {color: black;}#sk-container-id-11 div.sk-toggleable__content {max-height: 0;max-width: 0;overflow: hidden;text-align: left;background-color: #f0f8ff;}#sk-container-id-11 div.sk-toggleable__content pre {margin: 0.2em;color: black;border-radius: 0.25em;background-color: #f0f8ff;}#sk-container-id-11 input.sk-toggleable__control:checked~div.sk-toggleable__content {max-height: 200px;max-width: 100%;overflow: auto;}#sk-container-id-11 input.sk-toggleable__control:checked~label.sk-toggleable__label-arrow:before {content: \"▾\";}#sk-container-id-11 div.sk-estimator input.sk-toggleable__control:checked~label.sk-toggleable__label {background-color: #d4ebff;}#sk-container-id-11 div.sk-label input.sk-toggleable__control:checked~label.sk-toggleable__label {background-color: #d4ebff;}#sk-container-id-11 input.sk-hidden--visually {border: 0;clip: rect(1px 1px 1px 1px);clip: rect(1px, 1px, 1px, 1px);height: 1px;margin: -1px;overflow: hidden;padding: 0;position: absolute;width: 1px;}#sk-container-id-11 div.sk-estimator {font-family: monospace;background-color: #f0f8ff;border: 1px dotted black;border-radius: 0.25em;box-sizing: border-box;margin-bottom: 0.5em;}#sk-container-id-11 div.sk-estimator:hover {background-color: #d4ebff;}#sk-container-id-11 div.sk-parallel-item::after {content: \"\";width: 100%;border-bottom: 1px solid gray;flex-grow: 1;}#sk-container-id-11 div.sk-label:hover label.sk-toggleable__label {background-color: #d4ebff;}#sk-container-id-11 div.sk-serial::before {content: \"\";position: absolute;border-left: 1px solid gray;box-sizing: border-box;top: 0;bottom: 0;left: 50%;z-index: 0;}#sk-container-id-11 div.sk-serial {display: flex;flex-direction: column;align-items: center;background-color: white;padding-right: 0.2em;padding-left: 0.2em;position: relative;}#sk-container-id-11 div.sk-item {position: relative;z-index: 1;}#sk-container-id-11 div.sk-parallel {display: flex;align-items: stretch;justify-content: center;background-color: white;position: relative;}#sk-container-id-11 div.sk-item::before, #sk-container-id-11 div.sk-parallel-item::before {content: \"\";position: absolute;border-left: 1px solid gray;box-sizing: border-box;top: 0;bottom: 0;left: 50%;z-index: -1;}#sk-container-id-11 div.sk-parallel-item {display: flex;flex-direction: column;z-index: 1;position: relative;background-color: white;}#sk-container-id-11 div.sk-parallel-item:first-child::after {align-self: flex-end;width: 50%;}#sk-container-id-11 div.sk-parallel-item:last-child::after {align-self: flex-start;width: 50%;}#sk-container-id-11 div.sk-parallel-item:only-child::after {width: 0;}#sk-container-id-11 div.sk-dashed-wrapped {border: 1px dashed gray;margin: 0 0.4em 0.5em 0.4em;box-sizing: border-box;padding-bottom: 0.4em;background-color: white;}#sk-container-id-11 div.sk-label label {font-family: monospace;font-weight: bold;display: inline-block;line-height: 1.2em;}#sk-container-id-11 div.sk-label-container {text-align: center;}#sk-container-id-11 div.sk-container {/* jupyter's `normalize.less` sets `[hidden] { display: none; }` but bootstrap.min.css set `[hidden] { display: none !important; }` so we also need the `!important` here to be able to override the default hidden behavior on the sphinx rendered scikit-learn.org. See: https://github.com/scikit-learn/scikit-learn/issues/21755 */display: inline-block !important;position: relative;}#sk-container-id-11 div.sk-text-repr-fallback {display: none;}</style><div id=\"sk-container-id-11\" class=\"sk-top-container\"><div class=\"sk-text-repr-fallback\"><pre>LinearRegression()</pre><b>In a Jupyter environment, please rerun this cell to show the HTML representation or trust the notebook. <br />On GitHub, the HTML representation is unable to render, please try loading this page with nbviewer.org.</b></div><div class=\"sk-container\" hidden><div class=\"sk-item\"><div class=\"sk-estimator sk-toggleable\"><input class=\"sk-toggleable__control sk-hidden--visually\" id=\"sk-estimator-id-11\" type=\"checkbox\" checked><label for=\"sk-estimator-id-11\" class=\"sk-toggleable__label sk-toggleable__label-arrow\">LinearRegression</label><div class=\"sk-toggleable__content\"><pre>LinearRegression()</pre></div></div></div></div></div>"
     },
     "execution_count": 93,
     "metadata": {},
     "output_type": "execute_result"
    }
   ],
   "source": [
    "x_train, x_test, y_train, y_test = train_test_split(data, y, test_size=0.2)\n",
    "regression_alg = LinearRegression()\n",
    "regression_alg.fit(x_train, y_train)"
   ]
  },
  {
   "cell_type": "code",
   "execution_count": 94,
   "metadata": {
    "ExecuteTime": {
     "end_time": "2023-12-10T14:18:01.521870400Z",
     "start_time": "2023-12-10T14:18:01.493242800Z"
    }
   },
   "outputs": [
    {
     "name": "stdout",
     "output_type": "stream",
     "text": [
      "RMSE = 12.72\n",
      "R2_score = 0.81\n"
     ]
    }
   ],
   "source": [
    "train_predictions = regression_alg.predict(x_train)\n",
    "print(f\"RMSE = {round(sqrt(mean_squared_error(y_train, train_predictions)),2)}\")\n",
    "print(f\"R2_score = {round(r2_score(y_train, train_predictions),2)}\")"
   ]
  },
  {
   "cell_type": "code",
   "execution_count": 95,
   "metadata": {
    "ExecuteTime": {
     "end_time": "2023-12-10T14:18:01.668548800Z",
     "start_time": "2023-12-10T14:18:01.641683300Z"
    }
   },
   "outputs": [
    {
     "name": "stdout",
     "output_type": "stream",
     "text": [
      "RMSE = 18.25\n",
      "R2_score = 0.32\n"
     ]
    }
   ],
   "source": [
    "test_predictions = regression_alg.predict(x_test)\n",
    "print(f\"RMSE = {round(sqrt(mean_squared_error(y_test, test_predictions)),2)}\")\n",
    "print(f\"R2_score = {round(r2_score(y_test, test_predictions),2)}\")"
   ]
  },
  {
   "cell_type": "code",
   "execution_count": 96,
   "metadata": {
    "ExecuteTime": {
     "end_time": "2023-12-10T14:18:01.830126900Z",
     "start_time": "2023-12-10T14:18:01.812039900Z"
    }
   },
   "outputs": [
    {
     "data": {
      "text/plain": "array([-1.33129129,  8.06125365,  4.19924358, -6.84604323, -3.40050077,\n        2.00430076, -0.43053188, -1.06127358,  2.85820448, 11.27418575])"
     },
     "execution_count": 96,
     "metadata": {},
     "output_type": "execute_result"
    }
   ],
   "source": [
    "regression_alg.coef_"
   ]
  },
  {
   "cell_type": "code",
   "execution_count": 97,
   "metadata": {
    "ExecuteTime": {
     "end_time": "2023-12-10T14:18:01.986655300Z",
     "start_time": "2023-12-10T14:18:01.976610900Z"
    }
   },
   "outputs": [
    {
     "data": {
      "text/plain": "91.89373476885491"
     },
     "execution_count": 97,
     "metadata": {},
     "output_type": "execute_result"
    }
   ],
   "source": [
    "regression_alg.intercept_"
   ]
  },
  {
   "cell_type": "code",
   "execution_count": 98,
   "metadata": {
    "ExecuteTime": {
     "end_time": "2023-12-10T14:18:02.563808100Z",
     "start_time": "2023-12-10T14:18:02.463124Z"
    }
   },
   "outputs": [
    {
     "data": {
      "text/plain": "<Figure size 640x480 with 1 Axes>",
      "image/png": "[encoded data removed]"
     },
     "metadata": {},
     "output_type": "display_data"
    }
   ],
   "source": [
    "plt.scatter( y_test, test_predictions,  color='black')\n",
    "plt.title(\"les prédictions du modèle vs la réalité\")\n",
    "plt.xlabel(\"les valeurs observées\")\n",
    "plt.ylabel(\"Les prédictions\")\n",
    "plt.plot([40.0, 160.0], [40.0, 160.0], 'red', lw=1)\n",
    "plt.show()\n",
    " "
   ]
  },
  {
   "cell_type": "code",
   "execution_count": 99,
   "metadata": {
    "ExecuteTime": {
     "end_time": "2023-12-10T14:18:02.712175900Z",
     "start_time": "2023-12-10T14:18:02.701108500Z"
    }
   },
   "outputs": [],
   "source": [
    "def average_result(nb_run):\n",
    "    average_rmse = 0\n",
    "    average_r2 = 0\n",
    "    for i_run in range(nb_run):\n",
    "        x_train, x_test, y_train, y_test = train_test_split(data, y, test_size=0.2)\n",
    "        \n",
    "        regression_alg = LinearRegression()\n",
    "        regression_alg.fit(x_train, y_train)\n",
    "        \n",
    "        test_predictions = regression_alg.predict(x_test)\n",
    "        \n",
    "        i_run_rmse = sqrt(mean_squared_error(y_test, test_predictions))\n",
    "        i_run_r2 = r2_score(y_test, test_predictions)\n",
    "        \n",
    "        #print(f\"Run {i_run} : RMSE = {round(i_run_rmse,2)} - R2_score = {round(i_run_r2,2)}\")\n",
    "        \n",
    "        average_rmse = average_rmse + i_run_rmse\n",
    "        average_r2 = average_r2 + i_run_r2\n",
    "    \n",
    "    average_rmse = average_rmse / nb_run\n",
    "    average_r2 = average_r2 / nb_run\n",
    "    \n",
    "    print(f\"Moyenne : RMSE = {round(average_rmse,2)} - R2_score = {round(average_r2,2)}\")\n",
    "        "
   ]
  },
  {
   "cell_type": "code",
   "execution_count": 77,
   "metadata": {
    "ExecuteTime": {
     "end_time": "2023-12-10T14:15:00.405920Z",
     "start_time": "2023-12-10T14:15:00.154683100Z"
    }
   },
   "outputs": [
    {
     "name": "stdout",
     "output_type": "stream",
     "text": [
      "Moyenne : RMSE = 14.96 - R2_score = 0.67\n"
     ]
    }
   ],
   "source": [
    "average_result(100)"
   ]
  },
  {
   "cell_type": "code",
   "execution_count": 78,
   "metadata": {
    "ExecuteTime": {
     "end_time": "2023-12-10T14:15:00.421936900Z",
     "start_time": "2023-12-10T14:15:00.406920700Z"
    }
   },
   "outputs": [],
   "source": [
    "from sklearn.model_selection import  KFold"
   ]
  },
  {
   "cell_type": "code",
   "execution_count": 100,
   "metadata": {
    "ExecuteTime": {
     "end_time": "2023-12-10T14:18:52.352343500Z",
     "start_time": "2023-12-10T14:18:52.343773400Z"
    }
   },
   "outputs": [],
   "source": [
    "kf = KFold(n_splits=2, shuffle=False)"
   ]
  },
  {
   "cell_type": "code",
   "execution_count": 103,
   "metadata": {
    "ExecuteTime": {
     "end_time": "2023-12-10T14:20:16.978046400Z",
     "start_time": "2023-12-10T14:20:16.969985900Z"
    }
   },
   "outputs": [
    {
     "name": "stdout",
     "output_type": "stream",
     "text": [
      "Les indices de train_index =  [  2   3   4   5   7  10  14  15  20  22  24  25  26  29  30  31  35  36\n",
      "  38  40  44  45  46  48  50  54  56  57  58  59  60  61  63  65  66  67\n",
      "  71  72  74  75  76  79  81  85  86  88  91  94  96  97  98 101 103 104\n",
      " 107 108]\n",
      "Les indices de test_index =  [  0   1   6   8   9  11  12  13  16  17  18  19  21  23  27  28  32  33\n",
      "  34  37  39  41  42  43  47  49  51  52  53  55  62  64  68  69  70  73\n",
      "  77  78  80  82  83  84  87  89  90  92  93  95  99 100 102 105 106 109\n",
      " 110 111]\n",
      "\n",
      "\n",
      "\n",
      "Les indices de train_index =  [  0   1   6   8   9  11  12  13  16  17  18  19  21  23  27  28  32  33\n",
      "  34  37  39  41  42  43  47  49  51  52  53  55  62  64  68  69  70  73\n",
      "  77  78  80  82  83  84  87  89  90  92  93  95  99 100 102 105 106 109\n",
      " 110 111]\n",
      "Les indices de test_index =  [  2   3   4   5   7  10  14  15  20  22  24  25  26  29  30  31  35  36\n",
      "  38  40  44  45  46  48  50  54  56  57  58  59  60  61  63  65  66  67\n",
      "  71  72  74  75  76  79  81  85  86  88  91  94  96  97  98 101 103 104\n",
      " 107 108]\n"
     ]
    }
   ],
   "source": [
    "for train_index, test_index in kf.split(data):\n",
    "    print(\"Les indices de train_index = \", train_index)\n",
    "    print(\"Les indices de test_index = \",test_index)\n",
    "    print(\"\\n\\n\")\n",
    "    "
   ]
  },
  {
   "cell_type": "code",
   "execution_count": 105,
   "metadata": {
    "scrolled": false,
    "ExecuteTime": {
     "end_time": "2023-12-10T14:23:44.730595900Z",
     "start_time": "2023-12-10T14:23:44.707460800Z"
    }
   },
   "outputs": [
    {
     "name": "stdout",
     "output_type": "stream",
     "text": [
      "Les indices de train_index =  [  1   6   9  11  12  14  17  18  20  25  28  29  30  31  35  37  40  44\n",
      "  45  46  47  48  49  52  56  57  58  59  60  61  62  63  64  65  67  68\n",
      "  73  74  75  84  86  90  94  95  96  97  99 100 101 102 103 104 107 109\n",
      " 110 111]\n",
      "Les indices de test_index =  [  0   2   3   4   5   7   8  10  13  15  16  19  21  22  23  24  26  27\n",
      "  32  33  34  36  38  39  41  42  43  50  51  53  54  55  66  69  70  71\n",
      "  72  76  77  78  79  80  81  82  83  85  87  88  89  91  92  93  98 105\n",
      " 106 108]\n",
      "\n",
      "\n",
      "\n",
      "Les indices de train_index =  [  0   2   3   4   5   7   8  10  13  15  16  19  21  22  23  24  26  27\n",
      "  32  33  34  36  38  39  41  42  43  50  51  53  54  55  66  69  70  71\n",
      "  72  76  77  78  79  80  81  82  83  85  87  88  89  91  92  93  98 105\n",
      " 106 108]\n",
      "Les indices de test_index =  [  1   6   9  11  12  14  17  18  20  25  28  29  30  31  35  37  40  44\n",
      "  45  46  47  48  49  52  56  57  58  59  60  61  62  63  64  65  67  68\n",
      "  73  74  75  84  86  90  94  95  96  97  99 100 101 102 103 104 107 109\n",
      " 110 111]\n"
     ]
    }
   ],
   "source": [
    "kf = KFold(n_splits=2, shuffle=True)\n",
    "for train_index, test_index in kf.split(data):\n",
    "    print(\"Les indices de train_index = \", train_index)\n",
    "    print(\"Les indices de test_index = \", test_index)\n",
    "    print(\"\\n\\n\")"
   ]
  },
  {
   "cell_type": "code",
   "execution_count": 108,
   "metadata": {
    "scrolled": true,
    "ExecuteTime": {
     "end_time": "2023-12-10T14:25:09.847122100Z",
     "start_time": "2023-12-10T14:25:09.831107400Z"
    }
   },
   "outputs": [
    {
     "name": "stdout",
     "output_type": "stream",
     "text": [
      "Le nombre d'éléments dans train_index = 74\n",
      "Le nombre d'éléments dans test_index = 38\n",
      "\n",
      "Le nombre d'éléments dans train_index = 75\n",
      "Le nombre d'éléments dans test_index = 37\n",
      "\n",
      "Le nombre d'éléments dans train_index = 75\n",
      "Le nombre d'éléments dans test_index = 37\n"
     ]
    }
   ],
   "source": [
    "kf = KFold(n_splits=3, shuffle=False)\n",
    "for train_index, test_index in kf.split(data):\n",
    "    print(f\"Le nombre d'éléments dans train_index = {train_index.shape[0]}\")\n",
    "    print(f\"Le nombre d'éléments dans test_index = {test_index.shape[0]}\\n\")\n",
    "    "
   ]
  },
  {
   "cell_type": "code",
   "execution_count": 109,
   "metadata": {
    "ExecuteTime": {
     "end_time": "2023-12-10T14:29:29.499765200Z",
     "start_time": "2023-12-10T14:29:29.493572900Z"
    }
   },
   "outputs": [],
   "source": [
    "def create_evaluate_model(index_fold, x_train, x_test,  y_train, y_test):\n",
    "    regression_alg = LinearRegression()\n",
    "    regression_alg.fit(x_train, y_train)\n",
    "    test_predictions = regression_alg.predict(x_test)\n",
    "    rmse = sqrt(mean_squared_error(y_test, test_predictions))\n",
    "    r2 = r2_score(y_test, test_predictions)\n",
    "    print(f\"Run {index_fold} : RMSE = {round(rmse,2)} - R2_score = {round(r2,2)}\")\n",
    "    return (rmse, r2)\n",
    "\n"
   ]
  },
  {
   "cell_type": "code",
   "execution_count": 110,
   "metadata": {
    "ExecuteTime": {
     "end_time": "2023-12-10T14:33:08.574934800Z",
     "start_time": "2023-12-10T14:33:08.508058400Z"
    }
   },
   "outputs": [
    {
     "name": "stdout",
     "output_type": "stream",
     "text": [
      "Run 0 : RMSE = 15.25 - R2_score = 0.55\n",
      "Run 1 : RMSE = 18.13 - R2_score = 0.2\n",
      "Run 2 : RMSE = 19.2 - R2_score = 0.74\n",
      "Run 3 : RMSE = 16.31 - R2_score = 0.68\n",
      "Run 4 : RMSE = 8.4 - R2_score = 0.62\n",
      "Moyenne : RMSE = 15.46 - R2_score = 0.56\n"
     ]
    }
   ],
   "source": [
    "nb_model = 5\n",
    "kf = KFold(n_splits=nb_model, shuffle=False)\n",
    "index_fold = 0 \n",
    "average_rmse = 0\n",
    "average_r2 = 0\n",
    "for train_index, test_index in kf.split(data):\n",
    "    x_train, x_test = data.iloc[train_index], data.iloc[test_index]\n",
    "    y_train, y_test = y[train_index], y[test_index]\n",
    "    current_rmse, current_r2 = create_evaluate_model(index_fold, x_train, x_test, y_train, y_test)\n",
    "    average_rmse = average_rmse + current_rmse\n",
    "    average_r2 = average_r2 + current_r2\n",
    "    index_fold = index_fold + 1\n",
    "    \n",
    "average_rmse = average_rmse / nb_model\n",
    "average_r2 = average_r2 / nb_model\n",
    "print(f\"Moyenne : RMSE = {round(average_rmse,2)} - R2_score = {round(average_r2,2)}\")\n"
   ]
  }
 ],
 "metadata": {
  "kernelspec": {
   "display_name": "Python 3",
   "language": "python",
   "name": "python3"
  },
  "language_info": {
   "codemirror_mode": {
    "name": "ipython",
    "version": 3
   },
   "file_extension": ".py",
   "mimetype": "text/x-python",
   "name": "python",
   "nbconvert_exporter": "python",
   "pygments_lexer": "ipython3",
   "version": "3.8.3"
  }
 },
 "nbformat": 4,
 "nbformat_minor": 4
}
