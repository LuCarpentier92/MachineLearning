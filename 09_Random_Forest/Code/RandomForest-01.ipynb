{
 "cells": [
  {
   "cell_type": "code",
   "execution_count": 1,
   "metadata": {
    "ExecuteTime": {
     "end_time": "2023-12-16T13:28:40.245790Z",
     "start_time": "2023-12-16T13:28:36.223542700Z"
    }
   },
   "outputs": [],
   "source": [
    "import pandas as pd\n",
    "from sklearn.ensemble import RandomForestClassifier\n",
    "from sklearn.metrics import precision_recall_fscore_support as score\n",
    "from sklearn.model_selection import train_test_split\n",
    "\n",
    "data = pd.read_csv(\"../Data/spambase.csv\", sep=',', header=None)"
   ]
  },
  {
   "cell_type": "code",
   "execution_count": 2,
   "metadata": {
    "ExecuteTime": {
     "end_time": "2023-12-16T13:28:40.256517800Z",
     "start_time": "2023-12-16T13:28:40.241786600Z"
    }
   },
   "outputs": [],
   "source": [
    "email_class = data[57]"
   ]
  },
  {
   "cell_type": "code",
   "execution_count": 3,
   "metadata": {
    "ExecuteTime": {
     "end_time": "2023-12-16T13:28:40.274105700Z",
     "start_time": "2023-12-16T13:28:40.260522400Z"
    }
   },
   "outputs": [],
   "source": [
    "data.drop([57],axis = 1, inplace=True)"
   ]
  },
  {
   "cell_type": "code",
   "execution_count": 4,
   "metadata": {
    "ExecuteTime": {
     "end_time": "2023-12-16T13:28:40.288120500Z",
     "start_time": "2023-12-16T13:28:40.273104300Z"
    }
   },
   "outputs": [],
   "source": [
    "x_train, x_test, y_train, y_test = train_test_split(data, email_class, test_size=0.25)"
   ]
  },
  {
   "cell_type": "code",
   "execution_count": 5,
   "metadata": {
    "ExecuteTime": {
     "end_time": "2023-12-16T13:28:40.336171600Z",
     "start_time": "2023-12-16T13:28:40.290122500Z"
    }
   },
   "outputs": [],
   "source": [
    "alg_DecisionTree = RandomForestClassifier(n_estimators=1, max_depth=60, n_jobs=-1)\n",
    "dt_model = alg_DecisionTree.fit(x_train, y_train)"
   ]
  },
  {
   "cell_type": "code",
   "execution_count": 6,
   "metadata": {
    "ExecuteTime": {
     "end_time": "2023-12-16T13:28:40.351868800Z",
     "start_time": "2023-12-16T13:28:40.337171600Z"
    }
   },
   "outputs": [],
   "source": [
    "dt_predictions = dt_model.predict(x_test)\n",
    "precision, recall, fscore, support = score(y_test, dt_predictions, pos_label=1, average='binary')"
   ]
  },
  {
   "cell_type": "code",
   "execution_count": 7,
   "metadata": {
    "ExecuteTime": {
     "end_time": "2023-12-16T13:28:40.374890200Z",
     "start_time": "2023-12-16T13:28:40.352869500Z"
    }
   },
   "outputs": [
    {
     "name": "stdout",
     "output_type": "stream",
     "text": [
      "Precision: 0.859 / Recall: 0.9 / Accuracy: 0.897\n"
     ]
    }
   ],
   "source": [
    "print('Precision: {} / Recall: {} / Accuracy: {}'.format(round(precision, 3),\n",
    "                                                         round(recall, 3), round((dt_predictions==y_test).sum() / len(dt_predictions),3)))"
   ]
  },
  {
   "cell_type": "code",
   "execution_count": 8,
   "metadata": {
    "ExecuteTime": {
     "end_time": "2023-12-16T13:28:41.646820600Z",
     "start_time": "2023-12-16T13:28:40.369884200Z"
    }
   },
   "outputs": [
    {
     "data": {
      "text/plain": "array([0.82623805, 0.89826087, 0.95565217, 0.78347826])"
     },
     "execution_count": 8,
     "metadata": {},
     "output_type": "execute_result"
    }
   ],
   "source": [
    "from sklearn.model_selection import KFold, cross_val_score\n",
    "alg_RandomForest = RandomForestClassifier(n_estimators=5, max_depth=60, n_jobs=-1)\n",
    "k_fold = KFold(n_splits=4)\n",
    "cross_val_score(alg_RandomForest, data, email_class, cv=k_fold, scoring='accuracy', n_jobs=-1)"
   ]
  },
  {
   "cell_type": "code",
   "execution_count": 9,
   "metadata": {
    "ExecuteTime": {
     "end_time": "2023-12-16T13:28:42.854038500Z",
     "start_time": "2023-12-16T13:28:41.647823100Z"
    }
   },
   "outputs": [
    {
     "data": {
      "text/plain": "array([0.83145091, 0.91565217, 0.96173913, 0.8226087 ])"
     },
     "execution_count": 9,
     "metadata": {},
     "output_type": "execute_result"
    }
   ],
   "source": [
    "from sklearn.model_selection import KFold, cross_val_score\n",
    "alg_RandomForest = RandomForestClassifier(n_estimators=100, max_depth=60, n_jobs=-1)\n",
    "k_fold = KFold(n_splits=4)\n",
    "cross_val_score(alg_RandomForest, data, email_class, cv=k_fold, scoring='accuracy', n_jobs=-1).astype(float)"
   ]
  },
  {
   "cell_type": "code",
   "execution_count": 9,
   "outputs": [],
   "source": [],
   "metadata": {
    "collapsed": false,
    "ExecuteTime": {
     "end_time": "2023-12-16T13:28:42.881062700Z",
     "start_time": "2023-12-16T13:28:42.854038500Z"
    }
   }
  }
 ],
 "metadata": {
  "kernelspec": {
   "display_name": "Python 3",
   "language": "python",
   "name": "python3"
  },
  "language_info": {
   "codemirror_mode": {
    "name": "ipython",
    "version": 3
   },
   "file_extension": ".py",
   "mimetype": "text/x-python",
   "name": "python",
   "nbconvert_exporter": "python",
   "pygments_lexer": "ipython3",
   "version": "3.8.5"
  }
 },
 "nbformat": 4,
 "nbformat_minor": 4
}
