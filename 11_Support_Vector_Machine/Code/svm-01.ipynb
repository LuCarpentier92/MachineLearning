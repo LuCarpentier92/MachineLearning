{
 "cells": [
  {
   "cell_type": "code",
   "execution_count": 1,
   "metadata": {
    "ExecuteTime": {
     "end_time": "2023-12-14T22:19:57.062553800Z",
     "start_time": "2023-12-14T22:19:56.084841100Z"
    }
   },
   "outputs": [],
   "source": [
    "import pandas as pd\n",
    "from sklearn.metrics import precision_recall_fscore_support as score\n",
    "from sklearn.model_selection import train_test_split\n",
    "from sklearn  import svm\n",
    "import numpy as np\n",
    " "
   ]
  },
  {
   "cell_type": "code",
   "execution_count": 2,
   "metadata": {
    "ExecuteTime": {
     "end_time": "2023-12-14T22:20:09.037319100Z",
     "start_time": "2023-12-14T22:20:07.872199700Z"
    }
   },
   "outputs": [],
   "source": [
    "data_origin = pd.read_csv('../Data/creditcard.csv', sep=',')"
   ]
  },
  {
   "cell_type": "code",
   "execution_count": 3,
   "metadata": {
    "ExecuteTime": {
     "end_time": "2023-12-14T22:20:11.194820600Z",
     "start_time": "2023-12-14T22:20:11.159347400Z"
    }
   },
   "outputs": [],
   "source": [
    "data= data_origin[['Time', 'Amount', 'V1', 'V2', 'V3', 'V4', 'V5', 'V6', 'V7', 'V8', 'V9', 'V10',\n",
    "       'V11', 'V12', 'V13', 'V14', 'V15', 'V16', 'V17', 'V18', 'V19', 'V20',\n",
    "       'V21', 'V22', 'V23', 'V24', 'V25', 'V26', 'V27', 'V28']].copy()"
   ]
  },
  {
   "cell_type": "code",
   "execution_count": 4,
   "metadata": {
    "ExecuteTime": {
     "end_time": "2023-12-14T22:20:47.076584800Z",
     "start_time": "2023-12-14T22:20:47.059802600Z"
    }
   },
   "outputs": [],
   "source": [
    "y =data_origin['Class']  #variable à expliquer "
   ]
  },
  {
   "cell_type": "code",
   "execution_count": 5,
   "metadata": {
    "ExecuteTime": {
     "end_time": "2023-12-14T22:21:35.830847800Z",
     "start_time": "2023-12-14T22:21:35.761848600Z"
    }
   },
   "outputs": [],
   "source": [
    "x_train, x_test, y_train, y_test = train_test_split(data, y, test_size=0.2)"
   ]
  },
  {
   "cell_type": "code",
   "execution_count": 6,
   "metadata": {
    "scrolled": true,
    "ExecuteTime": {
     "end_time": "2023-12-14T22:22:09.780666100Z",
     "start_time": "2023-12-14T22:22:09.725604500Z"
    }
   },
   "outputs": [
    {
     "name": "stdout",
     "output_type": "stream",
     "text": [
      "La taille des données d enraînement X = (227845, 30)\n",
      "La taille des données d enraînement Y = (227845,)\n",
      "La taille des données de test X = (56962, 30)\n",
      "La taille des données de test Y = (56962,)\n"
     ]
    }
   ],
   "source": [
    "print('La taille des données d enraînement X = {}'.format(np.shape(x_train)))\n",
    "print('La taille des données d enraînement Y = {}'.format(np.shape(y_train)))\n",
    "print('La taille des données de test X = {}'.format(np.shape(x_test)))\n",
    "print('La taille des données de test Y = {}'.format(np.shape(y_test)))"
   ]
  },
  {
   "cell_type": "code",
   "execution_count": 8,
   "metadata": {
    "ExecuteTime": {
     "end_time": "2023-12-14T22:24:47.472536600Z",
     "start_time": "2023-12-14T22:24:47.442958800Z"
    }
   },
   "outputs": [
    {
     "name": "stdout",
     "output_type": "stream",
     "text": [
      "Transactions frauduleuses dans y_train =  390\n",
      "Transactions frauduleuses dans y_test =  102\n"
     ]
    }
   ],
   "source": [
    "print('Transactions frauduleuses dans y_train = ',sum(y_train == 1))\n",
    "print('Transactions frauduleuses dans y_test = ',sum(y_test == 1))\n"
   ]
  },
  {
   "cell_type": "code",
   "execution_count": 9,
   "metadata": {
    "ExecuteTime": {
     "end_time": "2023-12-14T22:26:26.774130300Z",
     "start_time": "2023-12-14T22:26:26.754944500Z"
    }
   },
   "outputs": [],
   "source": [
    "alg_svm = svm.SVC(kernel='linear')  # on crée une instance de SVM"
   ]
  },
  {
   "cell_type": "code",
   "execution_count": 10,
   "metadata": {
    "scrolled": true,
    "ExecuteTime": {
     "end_time": "2023-12-14T22:43:37.546140500Z",
     "start_time": "2023-12-14T22:26:30.419648600Z"
    }
   },
   "outputs": [
    {
     "data": {
      "text/plain": "SVC(kernel='linear')",
      "text/html": "<style>#sk-container-id-1 {color: black;}#sk-container-id-1 pre{padding: 0;}#sk-container-id-1 div.sk-toggleable {background-color: white;}#sk-container-id-1 label.sk-toggleable__label {cursor: pointer;display: block;width: 100%;margin-bottom: 0;padding: 0.3em;box-sizing: border-box;text-align: center;}#sk-container-id-1 label.sk-toggleable__label-arrow:before {content: \"▸\";float: left;margin-right: 0.25em;color: #696969;}#sk-container-id-1 label.sk-toggleable__label-arrow:hover:before {color: black;}#sk-container-id-1 div.sk-estimator:hover label.sk-toggleable__label-arrow:before {color: black;}#sk-container-id-1 div.sk-toggleable__content {max-height: 0;max-width: 0;overflow: hidden;text-align: left;background-color: #f0f8ff;}#sk-container-id-1 div.sk-toggleable__content pre {margin: 0.2em;color: black;border-radius: 0.25em;background-color: #f0f8ff;}#sk-container-id-1 input.sk-toggleable__control:checked~div.sk-toggleable__content {max-height: 200px;max-width: 100%;overflow: auto;}#sk-container-id-1 input.sk-toggleable__control:checked~label.sk-toggleable__label-arrow:before {content: \"▾\";}#sk-container-id-1 div.sk-estimator input.sk-toggleable__control:checked~label.sk-toggleable__label {background-color: #d4ebff;}#sk-container-id-1 div.sk-label input.sk-toggleable__control:checked~label.sk-toggleable__label {background-color: #d4ebff;}#sk-container-id-1 input.sk-hidden--visually {border: 0;clip: rect(1px 1px 1px 1px);clip: rect(1px, 1px, 1px, 1px);height: 1px;margin: -1px;overflow: hidden;padding: 0;position: absolute;width: 1px;}#sk-container-id-1 div.sk-estimator {font-family: monospace;background-color: #f0f8ff;border: 1px dotted black;border-radius: 0.25em;box-sizing: border-box;margin-bottom: 0.5em;}#sk-container-id-1 div.sk-estimator:hover {background-color: #d4ebff;}#sk-container-id-1 div.sk-parallel-item::after {content: \"\";width: 100%;border-bottom: 1px solid gray;flex-grow: 1;}#sk-container-id-1 div.sk-label:hover label.sk-toggleable__label {background-color: #d4ebff;}#sk-container-id-1 div.sk-serial::before {content: \"\";position: absolute;border-left: 1px solid gray;box-sizing: border-box;top: 0;bottom: 0;left: 50%;z-index: 0;}#sk-container-id-1 div.sk-serial {display: flex;flex-direction: column;align-items: center;background-color: white;padding-right: 0.2em;padding-left: 0.2em;position: relative;}#sk-container-id-1 div.sk-item {position: relative;z-index: 1;}#sk-container-id-1 div.sk-parallel {display: flex;align-items: stretch;justify-content: center;background-color: white;position: relative;}#sk-container-id-1 div.sk-item::before, #sk-container-id-1 div.sk-parallel-item::before {content: \"\";position: absolute;border-left: 1px solid gray;box-sizing: border-box;top: 0;bottom: 0;left: 50%;z-index: -1;}#sk-container-id-1 div.sk-parallel-item {display: flex;flex-direction: column;z-index: 1;position: relative;background-color: white;}#sk-container-id-1 div.sk-parallel-item:first-child::after {align-self: flex-end;width: 50%;}#sk-container-id-1 div.sk-parallel-item:last-child::after {align-self: flex-start;width: 50%;}#sk-container-id-1 div.sk-parallel-item:only-child::after {width: 0;}#sk-container-id-1 div.sk-dashed-wrapped {border: 1px dashed gray;margin: 0 0.4em 0.5em 0.4em;box-sizing: border-box;padding-bottom: 0.4em;background-color: white;}#sk-container-id-1 div.sk-label label {font-family: monospace;font-weight: bold;display: inline-block;line-height: 1.2em;}#sk-container-id-1 div.sk-label-container {text-align: center;}#sk-container-id-1 div.sk-container {/* jupyter's `normalize.less` sets `[hidden] { display: none; }` but bootstrap.min.css set `[hidden] { display: none !important; }` so we also need the `!important` here to be able to override the default hidden behavior on the sphinx rendered scikit-learn.org. See: https://github.com/scikit-learn/scikit-learn/issues/21755 */display: inline-block !important;position: relative;}#sk-container-id-1 div.sk-text-repr-fallback {display: none;}</style><div id=\"sk-container-id-1\" class=\"sk-top-container\"><div class=\"sk-text-repr-fallback\"><pre>SVC(kernel=&#x27;linear&#x27;)</pre><b>In a Jupyter environment, please rerun this cell to show the HTML representation or trust the notebook. <br />On GitHub, the HTML representation is unable to render, please try loading this page with nbviewer.org.</b></div><div class=\"sk-container\" hidden><div class=\"sk-item\"><div class=\"sk-estimator sk-toggleable\"><input class=\"sk-toggleable__control sk-hidden--visually\" id=\"sk-estimator-id-1\" type=\"checkbox\" checked><label for=\"sk-estimator-id-1\" class=\"sk-toggleable__label sk-toggleable__label-arrow\">SVC</label><div class=\"sk-toggleable__content\"><pre>SVC(kernel=&#x27;linear&#x27;)</pre></div></div></div></div></div>"
     },
     "execution_count": 10,
     "metadata": {},
     "output_type": "execute_result"
    }
   ],
   "source": [
    "alg_svm.fit(x_train, y_train) #prend du temps car 227000 données * 30 ~17min "
   ]
  },
  {
   "cell_type": "markdown",
   "source": [],
   "metadata": {
    "collapsed": false
   }
  },
  {
   "cell_type": "code",
   "execution_count": 11,
   "metadata": {
    "ExecuteTime": {
     "end_time": "2023-12-14T22:49:03.370555700Z",
     "start_time": "2023-12-14T22:49:03.357405100Z"
    }
   },
   "outputs": [
    {
     "name": "stdout",
     "output_type": "stream",
     "text": [
      "Le nombre de vecteurs supports est de : 541\n"
     ]
    }
   ],
   "source": [
    "print(f\"Le nombre de vecteurs supports est de : {len(alg_svm.support_vectors_)}\")"
   ]
  },
  {
   "cell_type": "code",
   "execution_count": 12,
   "metadata": {
    "scrolled": true,
    "ExecuteTime": {
     "end_time": "2023-12-14T22:49:21.238518600Z",
     "start_time": "2023-12-14T22:49:21.215187Z"
    }
   },
   "outputs": [
    {
     "name": "stdout",
     "output_type": "stream",
     "text": [
      "Le nombre de vecteurs supports par classe : [271 270]\n"
     ]
    }
   ],
   "source": [
    "print(f\"Le nombre de vecteurs supports par classe : {alg_svm.n_support_}\")"
   ]
  },
  {
   "cell_type": "code",
   "execution_count": 13,
   "metadata": {
    "ExecuteTime": {
     "end_time": "2023-12-14T22:50:32.528171700Z",
     "start_time": "2023-12-14T22:50:32.521077200Z"
    }
   },
   "outputs": [
    {
     "name": "stdout",
     "output_type": "stream",
     "text": [
      "Les classes ou les catégories manipulées sont : [0 1]\n"
     ]
    }
   ],
   "source": [
    "print(f\"Les classes ou les catégories manipulées sont : {alg_svm.classes_}\")"
   ]
  },
  {
   "cell_type": "code",
   "execution_count": 14,
   "metadata": {
    "ExecuteTime": {
     "end_time": "2023-12-14T22:55:44.751873300Z",
     "start_time": "2023-12-14T22:55:44.125408900Z"
    }
   },
   "outputs": [],
   "source": [
    "predictions = alg_svm.predict(x_test)"
   ]
  },
  {
   "cell_type": "code",
   "execution_count": 16,
   "metadata": {
    "ExecuteTime": {
     "end_time": "2023-12-14T22:56:07.326059500Z",
     "start_time": "2023-12-14T22:56:07.290897300Z"
    }
   },
   "outputs": [
    {
     "name": "stdout",
     "output_type": "stream",
     "text": [
      "Le nombre de cas positifs est :  39\n"
     ]
    }
   ],
   "source": [
    "print('Le nombre de cas positifs est : ', sum(predictions==1))"
   ]
  },
  {
   "cell_type": "code",
   "execution_count": 17,
   "metadata": {
    "ExecuteTime": {
     "end_time": "2023-12-14T22:57:11.050142400Z",
     "start_time": "2023-12-14T22:57:11.034097500Z"
    }
   },
   "outputs": [],
   "source": [
    "precision, recall, _, _ = score(y_test, predictions, pos_label=1, average='binary')"
   ]
  },
  {
   "cell_type": "code",
   "execution_count": 18,
   "metadata": {
    "ExecuteTime": {
     "end_time": "2023-12-14T23:00:31.419220100Z",
     "start_time": "2023-12-14T23:00:31.399770400Z"
    }
   },
   "outputs": [],
   "source": [
    "accuracy = round((predictions == y_test).sum()/len(y_test),3)"
   ]
  },
  {
   "cell_type": "code",
   "execution_count": 19,
   "metadata": {
    "ExecuteTime": {
     "end_time": "2023-12-14T23:00:46.050126300Z",
     "start_time": "2023-12-14T23:00:46.017097100Z"
    }
   },
   "outputs": [
    {
     "name": "stdout",
     "output_type": "stream",
     "text": [
      "Precision: 0.821 / Recall: 0.314 / Accuracy: 0.999\n"
     ]
    }
   ],
   "source": [
    "print('Precision: {} / Recall: {} / Accuracy: {}'.format(round(precision, 3), round(recall, 3), accuracy))"
   ]
  },
  {
   "cell_type": "code",
   "execution_count": 20,
   "metadata": {
    "scrolled": true,
    "ExecuteTime": {
     "end_time": "2023-12-14T23:03:18.529799600Z",
     "start_time": "2023-12-14T23:03:18.523794Z"
    }
   },
   "outputs": [
    {
     "data": {
      "text/plain": "array([[ 1.60080000e+05,  1.18000000e+00, -9.73832099e-01, ...,\n        -4.64154726e-01, -5.56316130e-02,  1.06842978e-02],\n       [ 2.92340000e+04,  8.99900000e+01, -4.17167410e+00, ...,\n        -2.93409430e-01,  1.28146640e+00,  3.07833804e-01],\n       [ 1.49390000e+05,  8.99000000e+00,  2.05331121e+00, ...,\n         1.66735634e-01, -6.82990099e-02, -2.95847028e-02],\n       ...,\n       [ 1.39951000e+05,  7.23210000e+02, -2.92194438e+00, ...,\n         1.72642921e-01,  7.26781012e-01,  2.34513922e-01],\n       [ 1.46022000e+05,  1.18000000e+00,  9.08636658e-01, ...,\n         2.10509756e-01,  6.48704799e-01,  3.60224330e-01],\n       [ 5.70070000e+04,  1.00000000e-02, -1.27124419e+00, ...,\n         7.56334523e-01,  6.32800477e-01,  2.50187093e-01]])"
     },
     "execution_count": 20,
     "metadata": {},
     "output_type": "execute_result"
    }
   ],
   "source": [
    "alg_svm.support_vectors_"
   ]
  }
 ],
 "metadata": {
  "kernelspec": {
   "display_name": "Python 3",
   "language": "python",
   "name": "python3"
  },
  "language_info": {
   "codemirror_mode": {
    "name": "ipython",
    "version": 3
   },
   "file_extension": ".py",
   "mimetype": "text/x-python",
   "name": "python",
   "nbconvert_exporter": "python",
   "pygments_lexer": "ipython3",
   "version": "3.8.5"
  }
 },
 "nbformat": 4,
 "nbformat_minor": 4
}
