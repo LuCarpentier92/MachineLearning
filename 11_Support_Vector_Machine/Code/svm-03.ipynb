{
 "cells": [
  {
   "cell_type": "code",
   "execution_count": 1,
   "metadata": {
    "scrolled": true,
    "ExecuteTime": {
     "end_time": "2023-12-15T10:45:10.593089100Z",
     "start_time": "2023-12-15T10:45:08.952562900Z"
    }
   },
   "outputs": [],
   "source": [
    "import pandas as pd\n",
    "from sklearn.metrics import precision_recall_fscore_support as score\n",
    "from sklearn.model_selection import train_test_split\n",
    "from sklearn  import svm\n",
    "import numpy as np\n",
    "from sklearn import preprocessing\n",
    "\n",
    "data_origin = pd.read_csv('../Data/creditcard.csv', sep=',')\n",
    "\n"
   ]
  },
  {
   "cell_type": "code",
   "execution_count": 2,
   "metadata": {
    "ExecuteTime": {
     "end_time": "2023-12-15T10:45:10.625119100Z",
     "start_time": "2023-12-15T10:45:10.596092Z"
    }
   },
   "outputs": [],
   "source": [
    "data= data_origin[['Amount','V1', 'V2', 'V3', 'V4', 'V5', 'V6', 'V7', 'V8', 'V9', 'V10',\n",
    "       'V11', 'V12', 'V13', 'V14', 'V15', 'V16', 'V17', 'V18', 'V19', 'V20',\n",
    "       'V21', 'V22', 'V23', 'V24', 'V25', 'V26', 'V27', 'V28']].copy()\n",
    "\n",
    "y =data_origin['Class']\n"
   ]
  },
  {
   "cell_type": "code",
   "execution_count": 3,
   "metadata": {
    "ExecuteTime": {
     "end_time": "2023-12-15T10:45:10.641134100Z",
     "start_time": "2023-12-15T10:45:10.625119100Z"
    }
   },
   "outputs": [],
   "source": [
    "def normalization(dataToNormalize):\n",
    "    columns = dataToNormalize.columns\n",
    "    for col in columns:\n",
    "        x = dataToNormalize[[col]].values.astype(float)\n",
    "        standard_normalization = preprocessing.StandardScaler()\n",
    "        res = standard_normalization.fit_transform(x)  #x-mean(x)/std\n",
    "        dataToNormalize[col]=res\n",
    "        "
   ]
  },
  {
   "cell_type": "code",
   "execution_count": 6,
   "metadata": {
    "ExecuteTime": {
     "end_time": "2023-12-15T10:45:32.501866400Z",
     "start_time": "2023-12-15T10:45:32.377247200Z"
    }
   },
   "outputs": [],
   "source": [
    "normalization(data)"
   ]
  },
  {
   "cell_type": "code",
   "execution_count": 7,
   "metadata": {
    "ExecuteTime": {
     "end_time": "2023-12-15T10:45:33.128565600Z",
     "start_time": "2023-12-15T10:45:32.833895Z"
    }
   },
   "outputs": [
    {
     "data": {
      "text/plain": "             Amount            V1            V2            V3            V4  \\\ncount  2.848070e+05  2.848070e+05  2.848070e+05  2.848070e+05  2.848070e+05   \nmean   2.913952e-17 -1.506872e-17 -9.580116e-18 -8.622104e-17 -5.189230e-18   \nstd    1.000002e+00  1.000002e+00  1.000002e+00  1.000002e+00  1.000002e+00   \nmin   -3.532294e-01 -2.879855e+01 -4.403529e+01 -3.187173e+01 -4.013919e+00   \n25%   -3.308401e-01 -4.698918e-01 -3.624707e-01 -5.872142e-01 -5.993788e-01   \n50%   -2.652715e-01  9.245351e-03  3.965683e-02  1.186124e-01 -1.401724e-02   \n75%   -4.471707e-02  6.716939e-01  4.867202e-01  6.774569e-01  5.250082e-01   \nmax    1.023622e+02  1.253351e+00  1.335775e+01  6.187993e+00  1.191874e+01   \n\n                 V5            V6            V7            V8            V9  \\\ncount  2.848070e+05  2.848070e+05  2.848070e+05  2.848070e+05  2.848070e+05   \nmean   3.832046e-17  9.979288e-18  1.237432e-17 -3.193372e-18  7.234983e-19   \nstd    1.000002e+00  1.000002e+00  1.000002e+00  1.000002e+00  1.000002e+00   \nmin   -8.240810e+01 -1.963606e+01 -3.520940e+01 -6.130252e+01 -1.222802e+01   \n25%   -5.010686e-01 -5.766822e-01 -4.478860e-01 -1.746805e-01 -5.853631e-01   \n50%   -3.936682e-02 -2.058046e-01  3.241723e-02  1.871982e-02 -4.681169e-02   \n75%    4.433465e-01  2.991625e-01  4.611107e-01  2.740785e-01  5.435305e-01   \nmax    2.521413e+01  5.502015e+01  9.747824e+01  1.675153e+01  1.419494e+01   \n\n       ...           V19           V20           V21           V22  \\\ncount  ...  2.848070e+05  2.848070e+05  2.848070e+05  2.848070e+05   \nmean   ...  4.365938e-18 -1.247411e-18 -3.642440e-18  3.193372e-18   \nstd    ...  1.000002e+00  1.000002e+00  1.000002e+00  1.000002e+00   \nmin    ... -8.861402e+00 -7.069146e+01 -4.741907e+01 -1.506565e+01   \n25%    ... -5.605369e-01 -2.746334e-01 -3.109433e-01 -7.473476e-01   \n50%    ...  4.588014e-03 -8.104705e-02 -4.009429e-02  9.345377e-03   \n75%    ...  5.637928e-01  1.725733e-01  2.537392e-01  7.283360e-01   \nmax    ...  6.869414e+00  5.113464e+01  3.703471e+01  1.447304e+01   \n\n                V23           V24           V25           V26           V27  \\\ncount  2.848070e+05  2.848070e+05  2.848070e+05  2.848070e+05  2.848070e+05   \nmean   8.781773e-18  9.580116e-18 -5.029561e-17  5.887780e-18  2.444925e-18   \nstd    1.000002e+00  1.000002e+00  1.000002e+00  1.000002e+00  1.000002e+00   \nmin   -7.175446e+01 -4.683638e+00 -1.975033e+01 -5.401098e+00 -5.590660e+01   \n25%   -2.591784e-01 -5.854676e-01 -6.084001e-01 -6.780717e-01 -1.755053e-01   \n50%   -1.792420e-02  6.765678e-02  3.183240e-02 -1.081217e-01  3.325174e-03   \n75%    2.364319e-01  7.257153e-01  6.728006e-01  4.996663e-01  2.255648e-01   \nmax    3.607668e+01  7.569684e+00  1.442532e+01  7.293975e+00  7.831940e+01   \n\n                V28  \ncount  2.848070e+05  \nmean  -7.908585e-18  \nstd    1.000002e+00  \nmin   -4.674612e+01  \n25%   -1.604440e-01  \n50%    3.406368e-02  \n75%    2.371526e-01  \nmax    1.025434e+02  \n\n[8 rows x 29 columns]",
      "text/html": "<div>\n<style scoped>\n    .dataframe tbody tr th:only-of-type {\n        vertical-align: middle;\n    }\n\n    .dataframe tbody tr th {\n        vertical-align: top;\n    }\n\n    .dataframe thead th {\n        text-align: right;\n    }\n</style>\n<table border=\"1\" class=\"dataframe\">\n  <thead>\n    <tr style=\"text-align: right;\">\n      <th></th>\n      <th>Amount</th>\n      <th>V1</th>\n      <th>V2</th>\n      <th>V3</th>\n      <th>V4</th>\n      <th>V5</th>\n      <th>V6</th>\n      <th>V7</th>\n      <th>V8</th>\n      <th>V9</th>\n      <th>...</th>\n      <th>V19</th>\n      <th>V20</th>\n      <th>V21</th>\n      <th>V22</th>\n      <th>V23</th>\n      <th>V24</th>\n      <th>V25</th>\n      <th>V26</th>\n      <th>V27</th>\n      <th>V28</th>\n    </tr>\n  </thead>\n  <tbody>\n    <tr>\n      <th>count</th>\n      <td>2.848070e+05</td>\n      <td>2.848070e+05</td>\n      <td>2.848070e+05</td>\n      <td>2.848070e+05</td>\n      <td>2.848070e+05</td>\n      <td>2.848070e+05</td>\n      <td>2.848070e+05</td>\n      <td>2.848070e+05</td>\n      <td>2.848070e+05</td>\n      <td>2.848070e+05</td>\n      <td>...</td>\n      <td>2.848070e+05</td>\n      <td>2.848070e+05</td>\n      <td>2.848070e+05</td>\n      <td>2.848070e+05</td>\n      <td>2.848070e+05</td>\n      <td>2.848070e+05</td>\n      <td>2.848070e+05</td>\n      <td>2.848070e+05</td>\n      <td>2.848070e+05</td>\n      <td>2.848070e+05</td>\n    </tr>\n    <tr>\n      <th>mean</th>\n      <td>2.913952e-17</td>\n      <td>-1.506872e-17</td>\n      <td>-9.580116e-18</td>\n      <td>-8.622104e-17</td>\n      <td>-5.189230e-18</td>\n      <td>3.832046e-17</td>\n      <td>9.979288e-18</td>\n      <td>1.237432e-17</td>\n      <td>-3.193372e-18</td>\n      <td>7.234983e-19</td>\n      <td>...</td>\n      <td>4.365938e-18</td>\n      <td>-1.247411e-18</td>\n      <td>-3.642440e-18</td>\n      <td>3.193372e-18</td>\n      <td>8.781773e-18</td>\n      <td>9.580116e-18</td>\n      <td>-5.029561e-17</td>\n      <td>5.887780e-18</td>\n      <td>2.444925e-18</td>\n      <td>-7.908585e-18</td>\n    </tr>\n    <tr>\n      <th>std</th>\n      <td>1.000002e+00</td>\n      <td>1.000002e+00</td>\n      <td>1.000002e+00</td>\n      <td>1.000002e+00</td>\n      <td>1.000002e+00</td>\n      <td>1.000002e+00</td>\n      <td>1.000002e+00</td>\n      <td>1.000002e+00</td>\n      <td>1.000002e+00</td>\n      <td>1.000002e+00</td>\n      <td>...</td>\n      <td>1.000002e+00</td>\n      <td>1.000002e+00</td>\n      <td>1.000002e+00</td>\n      <td>1.000002e+00</td>\n      <td>1.000002e+00</td>\n      <td>1.000002e+00</td>\n      <td>1.000002e+00</td>\n      <td>1.000002e+00</td>\n      <td>1.000002e+00</td>\n      <td>1.000002e+00</td>\n    </tr>\n    <tr>\n      <th>min</th>\n      <td>-3.532294e-01</td>\n      <td>-2.879855e+01</td>\n      <td>-4.403529e+01</td>\n      <td>-3.187173e+01</td>\n      <td>-4.013919e+00</td>\n      <td>-8.240810e+01</td>\n      <td>-1.963606e+01</td>\n      <td>-3.520940e+01</td>\n      <td>-6.130252e+01</td>\n      <td>-1.222802e+01</td>\n      <td>...</td>\n      <td>-8.861402e+00</td>\n      <td>-7.069146e+01</td>\n      <td>-4.741907e+01</td>\n      <td>-1.506565e+01</td>\n      <td>-7.175446e+01</td>\n      <td>-4.683638e+00</td>\n      <td>-1.975033e+01</td>\n      <td>-5.401098e+00</td>\n      <td>-5.590660e+01</td>\n      <td>-4.674612e+01</td>\n    </tr>\n    <tr>\n      <th>25%</th>\n      <td>-3.308401e-01</td>\n      <td>-4.698918e-01</td>\n      <td>-3.624707e-01</td>\n      <td>-5.872142e-01</td>\n      <td>-5.993788e-01</td>\n      <td>-5.010686e-01</td>\n      <td>-5.766822e-01</td>\n      <td>-4.478860e-01</td>\n      <td>-1.746805e-01</td>\n      <td>-5.853631e-01</td>\n      <td>...</td>\n      <td>-5.605369e-01</td>\n      <td>-2.746334e-01</td>\n      <td>-3.109433e-01</td>\n      <td>-7.473476e-01</td>\n      <td>-2.591784e-01</td>\n      <td>-5.854676e-01</td>\n      <td>-6.084001e-01</td>\n      <td>-6.780717e-01</td>\n      <td>-1.755053e-01</td>\n      <td>-1.604440e-01</td>\n    </tr>\n    <tr>\n      <th>50%</th>\n      <td>-2.652715e-01</td>\n      <td>9.245351e-03</td>\n      <td>3.965683e-02</td>\n      <td>1.186124e-01</td>\n      <td>-1.401724e-02</td>\n      <td>-3.936682e-02</td>\n      <td>-2.058046e-01</td>\n      <td>3.241723e-02</td>\n      <td>1.871982e-02</td>\n      <td>-4.681169e-02</td>\n      <td>...</td>\n      <td>4.588014e-03</td>\n      <td>-8.104705e-02</td>\n      <td>-4.009429e-02</td>\n      <td>9.345377e-03</td>\n      <td>-1.792420e-02</td>\n      <td>6.765678e-02</td>\n      <td>3.183240e-02</td>\n      <td>-1.081217e-01</td>\n      <td>3.325174e-03</td>\n      <td>3.406368e-02</td>\n    </tr>\n    <tr>\n      <th>75%</th>\n      <td>-4.471707e-02</td>\n      <td>6.716939e-01</td>\n      <td>4.867202e-01</td>\n      <td>6.774569e-01</td>\n      <td>5.250082e-01</td>\n      <td>4.433465e-01</td>\n      <td>2.991625e-01</td>\n      <td>4.611107e-01</td>\n      <td>2.740785e-01</td>\n      <td>5.435305e-01</td>\n      <td>...</td>\n      <td>5.637928e-01</td>\n      <td>1.725733e-01</td>\n      <td>2.537392e-01</td>\n      <td>7.283360e-01</td>\n      <td>2.364319e-01</td>\n      <td>7.257153e-01</td>\n      <td>6.728006e-01</td>\n      <td>4.996663e-01</td>\n      <td>2.255648e-01</td>\n      <td>2.371526e-01</td>\n    </tr>\n    <tr>\n      <th>max</th>\n      <td>1.023622e+02</td>\n      <td>1.253351e+00</td>\n      <td>1.335775e+01</td>\n      <td>6.187993e+00</td>\n      <td>1.191874e+01</td>\n      <td>2.521413e+01</td>\n      <td>5.502015e+01</td>\n      <td>9.747824e+01</td>\n      <td>1.675153e+01</td>\n      <td>1.419494e+01</td>\n      <td>...</td>\n      <td>6.869414e+00</td>\n      <td>5.113464e+01</td>\n      <td>3.703471e+01</td>\n      <td>1.447304e+01</td>\n      <td>3.607668e+01</td>\n      <td>7.569684e+00</td>\n      <td>1.442532e+01</td>\n      <td>7.293975e+00</td>\n      <td>7.831940e+01</td>\n      <td>1.025434e+02</td>\n    </tr>\n  </tbody>\n</table>\n<p>8 rows × 29 columns</p>\n</div>"
     },
     "execution_count": 7,
     "metadata": {},
     "output_type": "execute_result"
    }
   ],
   "source": [
    "data.describe()"
   ]
  },
  {
   "cell_type": "code",
   "execution_count": null,
   "metadata": {},
   "outputs": [],
   "source": [
    "x_train, x_test, y_train, y_test = train_test_split(data, y, test_size=0.2)\n",
    "\n",
    "alg_svm= svm.SVC(kernel = 'linear')\n",
    "\n",
    "alg_svm.fit(x_train, y_train)\n",
    "\n",
    "predictions = alg_svm.predict(x_test)\n",
    "\n",
    "precision, recall, _, _ = score(y_test, predictions, pos_label=1, average='binary')\n",
    "\n",
    "accuracy = round((predictions==y_test).sum() / len(predictions),3)\n",
    "\n",
    "\n",
    "\n"
   ]
  },
  {
   "cell_type": "code",
   "execution_count": null,
   "outputs": [],
   "source": [
    "print('Precision: {} / Recall: {} / Accuracy: {}'.format(round(precision, 3), round(recall, 3), accuracy))\n",
    "\n",
    "print('Le modèle prédit {} transactions frauduleuse'.format(sum(predictions)))\n",
    "\n",
    "print('Dans les données de test, il y a {} transactions frauduleuses'.format(sum(y_test)))"
   ],
   "metadata": {
    "collapsed": false
   }
  }
 ],
 "metadata": {
  "kernelspec": {
   "display_name": "Python 3",
   "language": "python",
   "name": "python3"
  },
  "language_info": {
   "codemirror_mode": {
    "name": "ipython",
    "version": 3
   },
   "file_extension": ".py",
   "mimetype": "text/x-python",
   "name": "python",
   "nbconvert_exporter": "python",
   "pygments_lexer": "ipython3",
   "version": "3.8.5"
  }
 },
 "nbformat": 4,
 "nbformat_minor": 4
}
