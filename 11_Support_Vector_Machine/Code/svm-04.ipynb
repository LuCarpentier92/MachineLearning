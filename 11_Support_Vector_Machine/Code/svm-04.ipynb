{
 "cells": [
  {
   "cell_type": "code",
   "execution_count": 1,
   "metadata": {
    "scrolled": true,
    "ExecuteTime": {
     "end_time": "2023-12-15T11:42:15.176416700Z",
     "start_time": "2023-12-15T11:42:14.523446800Z"
    }
   },
   "outputs": [],
   "source": [
    "import pandas as pd\n",
    "from sklearn.metrics import precision_recall_fscore_support as score\n",
    "from sklearn.model_selection import train_test_split\n",
    "from sklearn  import svm\n",
    "import numpy as np\n",
    "from sklearn import preprocessing\n",
    "from sklearn.model_selection import GridSearchCV\n"
   ]
  },
  {
   "cell_type": "code",
   "execution_count": 2,
   "metadata": {
    "scrolled": true,
    "ExecuteTime": {
     "end_time": "2023-12-15T11:42:16.709575800Z",
     "start_time": "2023-12-15T11:42:15.546676900Z"
    }
   },
   "outputs": [
    {
     "data": {
      "text/plain": "101"
     },
     "execution_count": 2,
     "metadata": {},
     "output_type": "execute_result"
    }
   ],
   "source": [
    "data_origin = pd.read_csv('../Data/creditcard.csv', sep=',')\n",
    "data= data_origin[['Amount','V1', 'V2', 'V3', 'V4', 'V5', 'V6', 'V7', 'V8', 'V9', 'V10',\n",
    "       'V11', 'V12', 'V13', 'V14', 'V15', 'V16', 'V17', 'V18', 'V19', 'V20',\n",
    "       'V21', 'V22', 'V23', 'V24', 'V25', 'V26', 'V27', 'V28']].copy()\n",
    "\n",
    "y =data_origin['Class']\n",
    "\n",
    "def normalization(dataToNormalize):\n",
    "    columns = dataToNormalize.columns\n",
    "    for col in columns:\n",
    "        x = dataToNormalize[[col]].values.astype(float)\n",
    "        standard_normalization = preprocessing.StandardScaler()\n",
    "        res = standard_normalization.fit_transform(x)\n",
    "        dataToNormalize[col]=res\n",
    "        \n",
    "normalization(data)\n",
    "\n",
    "x_train, x_test, y_train, y_test = train_test_split(data, y, test_size=0.2)\n",
    "sum(y_test)\n",
    "\n",
    "\n"
   ]
  },
  {
   "cell_type": "code",
   "execution_count": 3,
   "metadata": {
    "ExecuteTime": {
     "end_time": "2023-12-15T11:42:16.725988Z",
     "start_time": "2023-12-15T11:42:16.710577700Z"
    }
   },
   "outputs": [
    {
     "name": "stdout",
     "output_type": "stream",
     "text": [
      "1.0\n"
     ]
    }
   ],
   "source": [
    "alg_svm= svm.SVC() \n",
    "print(alg_svm.C)\n",
    "alg_svm.gamma\n",
    "params = {'kernel': ['rbf'],\n",
    "          'gamma': [0.001,1],\n",
    "          'C':[1,10]}"
   ]
  },
  {
   "cell_type": "code",
   "execution_count": 4,
   "metadata": {
    "ExecuteTime": {
     "end_time": "2023-12-15T11:42:17.328336300Z",
     "start_time": "2023-12-15T11:42:17.315322400Z"
    }
   },
   "outputs": [],
   "source": [
    "hyper_params_grid = GridSearchCV(alg_svm, params, cv=2, scoring ='accuracy', n_jobs=-1)"
   ]
  },
  {
   "cell_type": "code",
   "execution_count": 5,
   "metadata": {
    "ExecuteTime": {
     "end_time": "2023-12-15T12:09:33.532632Z",
     "start_time": "2023-12-15T11:42:23.446292200Z"
    }
   },
   "outputs": [],
   "source": [
    "hyper_params_models = hyper_params_grid.fit(x_train, y_train)"
   ]
  },
  {
   "cell_type": "code",
   "execution_count": 6,
   "metadata": {
    "ExecuteTime": {
     "end_time": "2023-12-15T12:13:04.996785100Z",
     "start_time": "2023-12-15T12:13:04.987647800Z"
    }
   },
   "outputs": [
    {
     "data": {
      "text/plain": "{'C': 10, 'gamma': 0.001, 'kernel': 'rbf'}"
     },
     "execution_count": 6,
     "metadata": {},
     "output_type": "execute_result"
    }
   ],
   "source": [
    "hyper_params_models.best_params_"
   ]
  },
  {
   "cell_type": "code",
   "execution_count": 7,
   "metadata": {
    "scrolled": true,
    "ExecuteTime": {
     "end_time": "2023-12-15T12:13:07.604615100Z",
     "start_time": "2023-12-15T12:13:07.594605800Z"
    }
   },
   "outputs": [],
   "source": [
    "model = hyper_params_models.best_estimator_\n"
   ]
  },
  {
   "cell_type": "code",
   "execution_count": 8,
   "metadata": {
    "ExecuteTime": {
     "end_time": "2023-12-15T12:13:09.843553500Z",
     "start_time": "2023-12-15T12:13:08.042606700Z"
    }
   },
   "outputs": [],
   "source": [
    "predictions = model.predict(x_test)"
   ]
  },
  {
   "cell_type": "code",
   "execution_count": 9,
   "metadata": {
    "ExecuteTime": {
     "end_time": "2023-12-15T12:13:09.880726700Z",
     "start_time": "2023-12-15T12:13:09.845555100Z"
    }
   },
   "outputs": [
    {
     "name": "stdout",
     "output_type": "stream",
     "text": [
      "Precision: 0.871 / Recall: 0.802 / Accuracy: 0.999\n",
      "Le modèle prédit 93 transactions frauduleuse\n",
      "Dans les données de test, il y a 101 transactions frauduleuses\n"
     ]
    }
   ],
   "source": [
    "precision, recall, _, _ = score(y_test, predictions, pos_label=1, average='binary')\n",
    "\n",
    "accuracy = round((predictions==y_test).sum() / len(predictions),3)\n",
    "\n",
    "print('Precision: {} / Recall: {} / Accuracy: {}'.format(round(precision, 3), round(recall, 3), accuracy))\n",
    "\n",
    "print('Le modèle prédit {} transactions frauduleuse'.format(sum(predictions)))\n",
    "\n",
    "print('Dans les données de test, il y a {} transactions frauduleuses'.format(sum(y_test)))"
   ]
  }
 ],
 "metadata": {
  "kernelspec": {
   "display_name": "Python 3",
   "language": "python",
   "name": "python3"
  },
  "language_info": {
   "codemirror_mode": {
    "name": "ipython",
    "version": 3
   },
   "file_extension": ".py",
   "mimetype": "text/x-python",
   "name": "python",
   "nbconvert_exporter": "python",
   "pygments_lexer": "ipython3",
   "version": "3.8.5"
  }
 },
 "nbformat": 4,
 "nbformat_minor": 4
}
