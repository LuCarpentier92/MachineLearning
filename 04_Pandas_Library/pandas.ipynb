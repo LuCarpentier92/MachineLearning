{
 "cells": [
  {
   "cell_type": "markdown",
   "id": "0cf08c65",
   "metadata": {},
   "source": [
    "# 1. DataSet a partir d'un dico\n"
   ]
  },
  {
   "cell_type": "code",
   "execution_count": null,
   "id": "5b4e8ad2",
   "metadata": {
    "is_executing": true
   },
   "outputs": [],
   "source": [
    "import pandas as pd\n",
    "myData=pd.DataFrame.from_dict(({'col1':[1,2,3],'col2':[4,5,6],'col3':['a','g','t']}), orient='index')\n",
    "\n",
    "\n",
    "\n",
    "#print(myData[0])\n",
    "\n",
    "#print('le type de données', myData.dtypes)"
   ]
  },
  {
   "cell_type": "markdown",
   "id": "c745283f",
   "metadata": {},
   "source": [
    "# 2. DataSet a partir d'un tableau NumPy"
   ]
  },
  {
   "cell_type": "code",
   "execution_count": null,
   "id": "83f20e95",
   "metadata": {
    "is_executing": true
   },
   "outputs": [],
   "source": [
    "import pandas as pd\n",
    "import numpy as np\n",
    "\n",
    "npArray=np.array([[1,3,4],[1,4,6],[5,6,3]])\n",
    "myData = pd.DataFrame(npArray, columns=['cola','colb','colc'])\n",
    "\n",
    "\n",
    "\n",
    "#print(myData)\n",
    "\n",
    "npArray[0,0]=99999\n",
    "\n",
    "#print(myData)\n",
    "\n",
    "#print('le type de données', myData.dtypes)"
   ]
  },
  {
   "cell_type": "markdown",
   "id": "c424be47",
   "metadata": {},
   "source": [
    "# 3. DataSet à partir d'un fichier CSV"
   ]
  },
  {
   "cell_type": "code",
   "execution_count": 138,
   "id": "714dc9e1",
   "metadata": {},
   "outputs": [],
   "source": [
    "import pandas as pd \n",
    "myData = pd.read_csv('Data\\ozone.csv')\n",
    "#print(myData)"
   ]
  },
  {
   "cell_type": "markdown",
   "id": "c06fa93e",
   "metadata": {},
   "source": [
    "# 4. DataSet à partir d'un fichier TXT"
   ]
  },
  {
   "cell_type": "code",
   "execution_count": 139,
   "id": "4c1db07c",
   "metadata": {},
   "outputs": [],
   "source": [
    "import pandas as pd \n",
    "myData = pd.read_csv('Data\\ozone.txt', delimiter=\"\\t\")\n",
    "#print(myData.head)\n"
   ]
  },
  {
   "cell_type": "markdown",
   "id": "f3a3d3b2",
   "metadata": {},
   "source": [
    "# 5. Accèder aux données d'un DataFrame "
   ]
  },
  {
   "cell_type": "code",
   "execution_count": 140,
   "id": "1c669d4d",
   "metadata": {},
   "outputs": [],
   "source": [
    "import pandas as pd \n",
    "myData = pd.read_csv('Data\\ozone.csv')\n",
    "\n",
    "#print(myData.iloc[5])\n",
    "#print(myData.iloc[10:15])  #15 est exclu\n",
    "\n",
    "for index,row in myData.iterrows():\n",
    "    #print(\"la valeur d'indice i = [{}] :\\n{}\".format(index,row))\n",
    "    pass \n",
    "\n",
    "dayOff = myData.loc[myData[\"JOUR\"]==1]\n",
    "#print(dayOff)\n",
    "dayOff = myData.loc[(myData[\"JOUR\"]==1) & (myData[\"O3obs\"]>=100)]\n",
    "#print(dayOff)\n",
    "dayOff = myData.loc[(myData[\"JOUR\"]==1) & (myData[\"O3obs\"]>=100) & ((myData[\"STATION\"]=='Aix') |(myData[\"STATION\"]=='Pla'))]\n",
    "dayOff = dayOff.reset_index(drop = True)   #reset les index des données extraites en enlevant l'index initial\n",
    "#print(dayOff.head(85))\n",
    "#print(dayOff.iloc[4])\n",
    "#print(len(dayOff.columns))\n",
    "\n",
    "liste_station=myData['STATION'].unique()\n",
    "#print(liste_station)\n",
    "\n",
    "#Regex\n",
    "\n",
    "regex = myData.loc[myData[\"STATION\"].str.contains(\".i.\", regex = True)]\n",
    "#print(regex['STATION'].unique())\n",
    "#print(regex)\n",
    "\n",
    "column = myData.columns\n",
    "#print(column)\n",
    "colomne = myData[[\"MOCAGE\",\"JOUR\"]]\n",
    "#print(colomne [5:10])\n",
    "\n",
    "value = myData.iloc[4,5]\n",
    "#print(value)"
   ]
  },
  {
   "cell_type": "markdown",
   "id": "2f073d45",
   "metadata": {},
   "source": [
    "# 6. Modifier un DataFrame"
   ]
  },
  {
   "cell_type": "code",
   "execution_count": 141,
   "id": "976d1234",
   "metadata": {},
   "outputs": [],
   "source": [
    "import pandas as pd \n",
    "myData = pd.read_csv('Data\\ozone.csv')\n",
    "myData.iloc[2,2] = 160\n",
    "#print(myData.iloc[2])\n",
    "\n",
    "#myData['Resultat'] = pow(myData['MOCAGE'],2)\n",
    "myData['Totat'] = myData.iloc[:,5:7].sum(axis=1)\n",
    "#print(myData)\n",
    "\n",
    "columns = list(myData.columns.values)\n",
    "\n",
    "myData = myData[columns[0:6]+columns[7:11]+[columns[6]]]\n",
    "#print(myData)\n",
    "\n",
    "dropped = myData.drop(columns = ['JOUR','NO2','STATION'])\n",
    "#print(dropped)"
   ]
  },
  {
   "cell_type": "code",
   "execution_count": 142,
   "id": "52221324",
   "metadata": {},
   "outputs": [],
   "source": [
    "import pandas as pd \n",
    "myData = pd.read_csv('Data\\ecoles-creches-idf.csv')\n",
    "\n",
    "#print(myData.columns)\n",
    "\n",
    "myMeltedData = myData.melt(['ID','geometry'],\n",
    "                           ['PM10_2012','PM10_2013','PM10_2014','PM10_2015','PM10_2016','PM10_2017'],\n",
    "                          'PM10_Annee','valeur')\n",
    "\n",
    "#print(myMeltedData)"
   ]
  },
  {
   "cell_type": "code",
   "execution_count": 143,
   "id": "da0b4014",
   "metadata": {},
   "outputs": [],
   "source": [
    "import pandas as pd\n",
    "import re\n",
    "\n",
    "myData = pd.read_csv('Data\\ecoles-creches-idf.csv')\n",
    "\n",
    "def get_lat(s,flag):\n",
    "    res = re.split('\\(|\\,|\\)',s)\n",
    "    if flag == 0:\n",
    "        res=res[1]\n",
    "    else:\n",
    "        res = res[2]\n",
    "    return float(res)\n",
    "\n",
    "myData['Latitude'] = myData['geometry'].apply(get_lat, flag=0 )\n",
    "\n",
    "#print(myData)"
   ]
  },
  {
   "cell_type": "code",
   "execution_count": 157,
   "id": "61b3fd62",
   "metadata": {},
   "outputs": [
    {
     "name": "stdout",
     "output_type": "stream",
     "text": [
      "      O3obs  MOCAGE  Resultat\n",
      "4       107    99.0      True\n",
      "5       150   114.3      True\n",
      "6       164   127.7      True\n",
      "9       129   112.8      True\n",
      "10      118    72.6      True\n",
      "...     ...     ...       ...\n",
      "913     115   112.5      True\n",
      "965     165   145.4      True\n",
      "967     125   117.3      True\n",
      "969     137   126.6      True\n",
      "1001    128   122.7      True\n",
      "\n",
      "[370 rows x 3 columns]\n"
     ]
    }
   ],
   "source": [
    "import pandas as pd\n",
    "myData = pd.read_csv('Data\\ozone.csv')\n",
    "myData = myData.drop(columns = ['JOUR', 'TEMPE', 'RMH2O', 'NO2', 'NO', 'STATION',\n",
    "       'VentMOD', 'VentANG'])\n",
    "difference = myData['O3obs']-myData['MOCAGE']\n",
    "myData['Resultat'] = False\n",
    "myData.loc[ difference>0, 'Resultat'] = True\n",
    "\n",
    "print(myData.loc[myData['Resultat'] == True])\n",
    "\n",
    "#  myData.append({}) pour ajouter une ligne au DataSet"
   ]
  },
  {
   "cell_type": "markdown",
   "id": "303afd87",
   "metadata": {},
   "source": [
    "# 7. Tri sur les données d'un DataFrame"
   ]
  },
  {
   "cell_type": "code",
   "execution_count": 165,
   "id": "7dcc105c",
   "metadata": {},
   "outputs": [
    {
     "name": "stdout",
     "output_type": "stream",
     "text": [
      "     JOUR  O3obs  MOCAGE  TEMPE    RMH2O     NO2     NO STATION  VentMOD  \\\n",
      "897     1    150   109.1   25.4  0.01358   0.258  0.080     Pla  5.38520   \n",
      "991     0    104   163.3   24.1  0.00927   0.280  0.084     Pla  4.30120   \n",
      "842     0    126   131.7   18.7  0.01063   0.310  0.047     Pla  5.07740   \n",
      "912     1     95   129.0   23.4  0.02076   0.319  0.052     Pla  5.90080   \n",
      "915     1    166   173.5   18.2  0.00655   0.328  0.001     Pla  5.77060   \n",
      "..    ...    ...     ...    ...      ...     ...    ...     ...      ...   \n",
      "32      0    139    92.5   26.0  0.01426  23.822  7.510     Aix  5.36000   \n",
      "707     1     96    96.1   15.2  0.00735  28.383  7.560     Ram  3.15753   \n",
      "83      0     93   163.1   19.0  0.00690  30.934  5.006     Aix  3.93190   \n",
      "197     0    117   154.7   20.4  0.00663  31.114  3.776     Aix  3.80789   \n",
      "825     0     96    91.2   20.5  0.00510  44.396  9.429     Ram  2.54950   \n",
      "\n",
      "     VentANG  \n",
      "897  1.02401  \n",
      "991  0.95055  \n",
      "842  1.01011  \n",
      "912  1.55385  \n",
      "915 -1.08390  \n",
      "..       ...  \n",
      "32   0.93103  \n",
      "707  0.19118  \n",
      "83   0.12751  \n",
      "197  0.23861  \n",
      "825  0.84090  \n",
      "\n",
      "[1041 rows x 10 columns]\n"
     ]
    }
   ],
   "source": [
    "import pandas as pd\n",
    "myData = pd.read_csv('Data\\ozone.csv')\n",
    "\n",
    "sort = myData.sort_values('NO2', ascending = False)\n",
    "\n",
    "#print(sort)\n",
    "#print(sort.reset_index(drop = True))\n",
    "\n",
    "sort2 = myData.sort_values(['NO2', 'TEMPE'], ascending = [1,0])\n",
    "print(sort2)"
   ]
  },
  {
   "cell_type": "markdown",
   "id": "66ee0541",
   "metadata": {},
   "source": [
    "# 8. Sauvegarder les données d'un DataFrame"
   ]
  },
  {
   "cell_type": "code",
   "execution_count": 173,
   "id": "82ce3b7b",
   "metadata": {},
   "outputs": [],
   "source": [
    "import pandas as pd\n",
    "myData = pd.read_csv('Data\\ozone.csv')\n",
    "\n",
    "columns = list(myData.columns.values)\n",
    "myData = myData[columns[0:6]+columns[7:11]+[columns[6]]]\n",
    "\n",
    "myData.to_csv('Data\\ozone3.csv', index = False)\n",
    "myData.to_excel('Data\\ozone3.xlsx', index = False)"
   ]
  },
  {
   "cell_type": "markdown",
   "id": "5b7989eb",
   "metadata": {},
   "source": [
    "# 9. Statistique sur un DataFrame"
   ]
  },
  {
   "cell_type": "code",
   "execution_count": 177,
   "id": "2c1bd9f9",
   "metadata": {},
   "outputs": [],
   "source": [
    "import pandas as pd\n",
    "myData = pd.read_csv('Data\\ozone.csv')\n",
    "\n",
    "stat = myData.describe()\n",
    "\n",
    "\n",
    "stat = myData.groupby(['STATION']).mean().sort_values(\"O3obs\" , ascending = False)\n",
    "\n",
    "#print(stat)"
   ]
  },
  {
   "cell_type": "code",
   "execution_count": 188,
   "id": "887e5c74",
   "metadata": {},
   "outputs": [],
   "source": [
    "import pandas as pd\n",
    "myData = pd.read_csv('Data\\ozone.csv')\n",
    "\n",
    "stat = myData.describe()\n",
    "\n",
    "\n",
    "stat = myData.groupby(['STATION', 'JOUR']).mean().sort_values(\"O3obs\" , ascending = False)\n",
    "\n",
    "#print(stat)"
   ]
  },
  {
   "cell_type": "markdown",
   "id": "5361ce6b",
   "metadata": {},
   "source": [
    "# 10. Lecture de fichier très volumineux"
   ]
  },
  {
   "cell_type": "code",
   "execution_count": 189,
   "id": "31d79bc4",
   "metadata": {},
   "outputs": [],
   "source": [
    "import pandas as pd\n",
    "myData = pd.read_csv('Data\\ozone.csv', chunksize = 5)\n",
    "\n",
    "for bloc in myData:\n",
    "    #print(\"Nouveau bloc\")\n",
    "    #print(bloc)\n",
    "    pass\n",
    "    \n"
   ]
  },
  {
   "cell_type": "code",
   "execution_count": 190,
   "id": "f0dd0e09",
   "metadata": {},
   "outputs": [
    {
     "name": "stdout",
     "output_type": "stream",
     "text": [
      "     O3obs  MOCAGE  TEMPE\n",
      "Aix   94.8   99.04  20.32\n",
      "Aix  139.8  132.64  24.14\n",
      "Aix   83.8  115.52  18.00\n",
      "Aix  113.4  114.90  25.02\n",
      "Aix  156.6  132.58  27.96\n",
      "..     ...     ...    ...\n",
      "Pla  109.8  166.16  21.12\n",
      "Pla   92.0  155.52  21.20\n",
      "Pla   72.8  123.72  16.86\n",
      "Pla   92.8  192.70  18.18\n",
      "Pla   93.0  221.20  16.70\n",
      "\n",
      "[213 rows x 3 columns]\n"
     ]
    }
   ],
   "source": [
    "import pandas as pd\n",
    "\n",
    "myC = ['O3obs', 'MOCAGE','TEMPE']\n",
    "myData = pd.DataFrame(columns = myC)\n",
    "\n",
    "for bloc in pd.read_csv('Data\\ozone.csv', chunksize = 5):\n",
    "    bloc = bloc.drop(columns = ['JOUR','RMH2O','NO2','NO','VentMOD','VentANG'])\n",
    "    resultat = bloc.groupby(['STATION']).mean()\n",
    "    myData = pd.concat([myData, resultat[myC]])\n",
    "    \n",
    "print(myData)"
   ]
  },
  {
   "cell_type": "code",
   "execution_count": null,
   "id": "7d2b15fc",
   "metadata": {},
   "outputs": [],
   "source": []
  }
 ],
 "metadata": {
  "kernelspec": {
   "display_name": "Python 3 (ipykernel)",
   "language": "python",
   "name": "python3"
  },
  "language_info": {
   "codemirror_mode": {
    "name": "ipython",
    "version": 3
   },
   "file_extension": ".py",
   "mimetype": "text/x-python",
   "name": "python",
   "nbconvert_exporter": "python",
   "pygments_lexer": "ipython3",
   "version": "3.11.5"
  }
 },
 "nbformat": 4,
 "nbformat_minor": 5
}
