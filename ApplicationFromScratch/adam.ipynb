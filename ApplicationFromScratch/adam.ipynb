{
 "cells": [
  {
   "metadata": {
    "ExecuteTime": {
     "end_time": "2024-11-25T21:23:09.811031Z",
     "start_time": "2024-11-25T21:23:09.806121Z"
    }
   },
   "cell_type": "code",
   "source": "import numpy as np",
   "id": "ecf7335ba560585b",
   "outputs": [],
   "execution_count": 2
  },
  {
   "metadata": {
    "collapsed": true
   },
   "cell_type": "code",
   "outputs": [],
   "execution_count": null,
   "source": [
    "def adam_optimizer(alpha = 0.001, beta1 = 0.9, beta2 = 0.999, epsilon = 1e-8):\n",
    "    m0 = 0\n",
    "    v0 = 0\n",
    "    m = np.array(m0)\n",
    "    v = np.array(v0)\n",
    "    converged = False\n",
    "    i = 0\n",
    "    while not converged:\n",
    "        i+=1\n",
    "        \n",
    "    \n",
    "    "
   ],
   "id": "initial_id"
  },
  {
   "metadata": {},
   "cell_type": "markdown",
   "source": [
    "Connected to pydev debugger (build 242.23726.102)\n",
    "\n",
    "\n",
    "[<tf.Tensor: shape=(2, 4), dtype=float32, numpy=\n",
    "\n",
    "\n",
    "array([[ 0.0000000e+00, -4.1458354e-04, -1.2156062e-02,  0.0000000e+00],\n",
    "       [ 0.0000000e+00,  8.1599457e-05, -1.1105627e-02,  0.0000000e+00]],\n",
    "      dtype=float32)>, <tf.Tensor: shape=(1, 4), dtype=float32, numpy=\n",
    "\n",
    "\n",
    "array([[ 0.0000000e+00,  8.1599457e-05, -3.5984255e-02,  0.0000000e+00]],\n",
    "      dtype=float32)>, <tf.Tensor: shape=(4, 1), dtype=float32, numpy=\n",
    "\n",
    "\n",
    "array([[ 0.        ],\n",
    "       [-0.00625188],\n",
    "       [-0.05907966],\n",
    "       [ 0.        ]], dtype=float32)>, <tf.Tensor: shape=(1, 1), dtype=float32, numpy=array([[-0.07623041]], dtype=float32)>]"
   ],
   "id": "4a4680e8b2f69cf3"
  },
  {
   "metadata": {},
   "cell_type": "markdown",
   "source": [
    "Connected to pydev debugger (build 242.23726.102)\n",
    "\n",
    "\n",
    "[[<tf.Tensor: shape=(2, 4), dtype=float32, numpy=\n",
    "\n",
    "\n",
    "array([[ 0.0000000e+00, -4.1458354e-04, -1.2156062e-02,  0.0000000e+00],\n",
    "       [ 0.0000000e+00,  8.1599457e-05, -1.1105627e-02,  0.0000000e+00]],\n",
    "      dtype=float32)>, <tf.Tensor: shape=(1, 4), dtype=float32, numpy=\n",
    "\n",
    "\n",
    "array([[ 0.0000000e+00,  8.1599457e-05, -3.5984255e-02,  0.0000000e+00]],\n",
    "      dtype=float32)>, <tf.Tensor: shape=(4, 1), dtype=float32, numpy=\n",
    "\n",
    "\n",
    "array([[ 0.        ],\n",
    "       [-0.00625188],\n",
    "       [-0.05907966],\n",
    "       [ 0.        ]], dtype=float32)>, <tf.Tensor: shape=(1, 1), dtype=float32, numpy=array([[-0.07623041]], dtype=float32)>]]"
   ],
   "id": "be52e63a45382560"
  }
 ],
 "metadata": {
  "kernelspec": {
   "display_name": "Python 3",
   "language": "python",
   "name": "python3"
  },
  "language_info": {
   "codemirror_mode": {
    "name": "ipython",
    "version": 2
   },
   "file_extension": ".py",
   "mimetype": "text/x-python",
   "name": "python",
   "nbconvert_exporter": "python",
   "pygments_lexer": "ipython2",
   "version": "2.7.6"
  }
 },
 "nbformat": 4,
 "nbformat_minor": 5
}
